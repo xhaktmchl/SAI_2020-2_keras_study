{
  "nbformat": 4,
  "nbformat_minor": 0,
  "metadata": {
    "colab": {
      "name": "SAI_keras_1장.ipynb",
      "provenance": [],
      "authorship_tag": "ABX9TyP6WskUz5OzdGxJtbuRz1GD",
      "include_colab_link": true
    },
    "kernelspec": {
      "name": "python3",
      "display_name": "Python 3"
    }
  },
  "cells": [
    {
      "cell_type": "markdown",
      "metadata": {
        "id": "view-in-github",
        "colab_type": "text"
      },
      "source": [
        "<a href=\"https://colab.research.google.com/github/xhaktmchl/SAI_2020-2_keras_study/blob/main/SAI_keras_1%EC%9E%A5.ipynb\" target=\"_parent\"><img src=\"https://colab.research.google.com/assets/colab-badge.svg\" alt=\"Open In Colab\"/></a>"
      ]
    },
    {
      "cell_type": "markdown",
      "metadata": {
        "id": "s45TtBeecxW2"
      },
      "source": [
        "#1 딥러닝 이란?\n",
        "###1.1.1지도,비지도 학습\n",
        "###1.1.2 지도 학습\n",
        "1) 예시  \n",
        "이미지 분류,성적 예측  \n",
        "2) 과정  \n",
        "-훈련 데이터 셋  \n",
        "3) 종류  \n",
        "-회귀 :  \n",
        "\n",
        "* 선형 회귀  \n",
        "1) 데이터 셋에 맞는 가설(직선)을 세운다  \n",
        "2) 각 점마다의 거리 제곱 (손실율 측정)의 평균- cost 함수  \n",
        "3) cost(w,b)가 최소화 하는걸 찾는것--> 경사하강법으로 w,b값 찾아  \n",
        "=cost(w,b) = (직선-점)^2의 합의 평균    \n",
        "  \n",
        "###1.2.1 딥러닝 데이터  \n",
        "1) training,dev,test  \n",
        "-전통적 60/20/20  \n",
        "데이터가 백만 이상씩되도 개발,테스트 세트는 100만개만 되도 충분하다  \n",
        "-나머지는 훈련세트로활용  \n",
        "\n",
        "###1.2.2 신경망  \n",
        "-ReLU : _/ 이런 형태의 함수  \n",
        "\n",
        "1) cnn : 합성곱 신경망  \n",
        "2) rnn : 순환 신경망 (1차원 적인 시간에 따른 음성인식같은것에 효과적)  \n",
        "3) 데이터 종류  \n",
        "-구조적 데이터 : 광고같은것,  \n",
        "-비구조적 데이터 : 음성이나 ,사진, 문장  \n",
        "\n",
        "###1.2.3 갑자기 발전의 이유  \n",
        "1) 데이터량 증가 ->큰 신경망(많은 은닉 유닛) 사용가능해짐  \n",
        "2) 컴퓨터측면 -gpu,cpu발전 계산 빨라짐  \n",
        "3) 여러 알고리즘 발명  \n",
        "\n",
        "###1.3 chain rule (연쇄법칙)(과정은 잘 모르겠지만)  \n",
        ": 미분한 값을 다른 함수에 넣으면 두 함수 사이의 연결  \n",
        ": 시간에 대한 배고픔,배고픔에 대한 밥의 욕구 -> 시간에대한 밥의 욕구를 예측가능  "
      ]
    }
  ]
}