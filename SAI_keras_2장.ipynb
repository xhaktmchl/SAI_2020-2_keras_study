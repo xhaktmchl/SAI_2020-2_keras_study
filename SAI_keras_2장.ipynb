{
  "nbformat": 4,
  "nbformat_minor": 0,
  "metadata": {
    "colab": {
      "name": "SAI_keras_2장.ipynb",
      "provenance": [],
      "collapsed_sections": [
        "xXuLXNgjzUX1",
        "eM8l4h9Y7EZt",
        "jczlBbTo_Bw3",
        "q58wgE5cBRaD",
        "MaUZyRqwDqBY",
        "19SDfFipEewt",
        "zBVuQAW5YWGb",
        "Q5EZQblFdT7S",
        "BqJ0gEzOgxqz",
        "ses179PUlqE1",
        "Y_zmwG-ZntCn",
        "gR5Km9JDpLBp",
        "LrFq3L4CtLFh",
        "AG3wudthuBxD",
        "WV9t2970xK-q",
        "eI3h4x9T395d",
        "UiPE60fRNpZr"
      ],
      "mount_file_id": "1fA5DSurUGnw8qQnjRotYiYYNi48DnD_v",
      "authorship_tag": "ABX9TyOgxwlwOt5ccSYyEwtoiqlo",
      "include_colab_link": true
    },
    "kernelspec": {
      "name": "python3",
      "display_name": "Python 3"
    }
  },
  "cells": [
    {
      "cell_type": "markdown",
      "metadata": {
        "id": "view-in-github",
        "colab_type": "text"
      },
      "source": [
        "<a href=\"https://colab.research.google.com/github/xhaktmchl/SAI_2020-2_keras_study/blob/main/SAI_keras_2%EC%9E%A5.ipynb\" target=\"_parent\"><img src=\"https://colab.research.google.com/assets/colab-badge.svg\" alt=\"Open In Colab\"/></a>"
      ]
    },
    {
      "cell_type": "markdown",
      "metadata": {
        "id": "n00QQpOs5JkB"
      },
      "source": [
        "#1 딥러닝 이란?  \n",
        "### 1.1.1지도,비지도 학습   \n",
        "### 1.1.2 지도 학습 \n",
        "1) 예시   \n",
        "이미지 분류,성적 예측  \n",
        "2) 과정  \n",
        "-훈련 데이터 셋  \n",
        "3) 종류  \n",
        "-회귀\n",
        ": \n",
        "* 선형 회귀  \n",
        "1) 데이터 셋에 맞는 가설(직선)을 세운다  \n",
        "2) 각 점마다의 거리 제곱 (손실율 측정)의 평균- cost 함수   \n",
        "3) cost(w,b)가 최소화 하는걸 찾는것-->  경사하강법으로 w,b값 찾아  \n",
        "=cost(w,b) = (직선-점)^2의 합의 평균"
      ]
    },
    {
      "cell_type": "markdown",
      "metadata": {
        "id": "B8-lnJ6C5JCH"
      },
      "source": [
        "###1.2.1 딥러닝 데이터    \n",
        "1) training,dev,test  \n",
        "-전통적 60/20/20  \n",
        "데이터가 백만 이상씩되도 개발,테스트 세트는 100만개만 되도 충분하다  \n",
        "-나머지는 훈련세트로활용  \n",
        "\n",
        "###1.2.2 신경망  \n",
        "-ReLU : _/ 이런 형태의 함수  \n",
        "  \n",
        "1) cnn : 합성곱 신경망  \n",
        "2) rnn : 순환 신경망 (1차원 적인 시간에 따른 음성인식같은것에 효과적)  \n",
        "3) 데이터 종류  \n",
        "-구조적 데이터 : 광고같은것,   \n",
        "-비구조적 데이터 : 음성이나 ,사진,   문장  \n",
        "\n",
        "\n",
        "###1.2.3 갑자기 발전의 이유  \n",
        "1) 데이터량 증가 ->큰 신경망(많은 은닉 유닛) 사용가능해짐  \n",
        "2) 컴퓨터측면 -gpu,cpu발전 계산 빨라짐  \n",
        "3) 여러 알고리즘 발명  \n"
      ]
    },
    {
      "cell_type": "markdown",
      "metadata": {
        "id": "8soyrqS37Hr5"
      },
      "source": [
        "###1.3 chain rule (연쇄법칙)(과정은 잘 모르겠지만)  \n",
        ": 미분한 값을 다른 함수에 넣으면 두 함수 사이의 연결  \n",
        ": 시간에 대한 배고픔,배고픔에 대한 밥의 욕구 -> 시간에대한 밥의 욕구를 예측가능  "
      ]
    },
    {
      "cell_type": "markdown",
      "metadata": {
        "id": "ISQcJPb-yn-Y"
      },
      "source": [
        "# 2.1 신경망과의 첫만남\n",
        "### 간단한 숫자분류기\n"
      ]
    },
    {
      "cell_type": "code",
      "metadata": {
        "id": "LsoUdFlxW1Qq",
        "outputId": "c60d121b-2fbc-4b40-b4dd-7fa0de915cb3",
        "colab": {
          "base_uri": "https://localhost:8080/",
          "height": 52
        }
      },
      "source": [
        "from keras.datasets import mnist\n",
        "(train_images,train_labels),(test_images,test_labels)= mnist.load_data()\n"
      ],
      "execution_count": null,
      "outputs": [
        {
          "output_type": "stream",
          "text": [
            "Downloading data from https://storage.googleapis.com/tensorflow/tf-keras-datasets/mnist.npz\n",
            "11493376/11490434 [==============================] - 0s 0us/step\n"
          ],
          "name": "stdout"
        }
      ]
    },
    {
      "cell_type": "code",
      "metadata": {
        "id": "r6NV9zFWXldm",
        "outputId": "0d51286b-ef64-4a92-f614-aa7510ad303b",
        "colab": {
          "base_uri": "https://localhost:8080/",
          "height": 34
        }
      },
      "source": [
        "len(train_labels)"
      ],
      "execution_count": null,
      "outputs": [
        {
          "output_type": "execute_result",
          "data": {
            "text/plain": [
              "60000"
            ]
          },
          "metadata": {
            "tags": []
          },
          "execution_count": 2
        }
      ]
    },
    {
      "cell_type": "code",
      "metadata": {
        "id": "_9Kn-3FrXtmR",
        "outputId": "9e1a225a-f04b-4761-a1c3-1dec6505a04d",
        "colab": {
          "base_uri": "https://localhost:8080/",
          "height": 34
        }
      },
      "source": [
        "# 훈련 이미지 모양\n",
        "train_images.shape "
      ],
      "execution_count": null,
      "outputs": [
        {
          "output_type": "execute_result",
          "data": {
            "text/plain": [
              "(60000, 28, 28)"
            ]
          },
          "metadata": {
            "tags": []
          },
          "execution_count": 3
        }
      ]
    },
    {
      "cell_type": "code",
      "metadata": {
        "id": "cZR7dFPnXw6u",
        "outputId": "18927544-e8f0-431c-b222-dfae268bda19",
        "colab": {
          "base_uri": "https://localhost:8080/",
          "height": 34
        }
      },
      "source": [
        "train_labels"
      ],
      "execution_count": null,
      "outputs": [
        {
          "output_type": "execute_result",
          "data": {
            "text/plain": [
              "array([5, 0, 4, ..., 5, 6, 8], dtype=uint8)"
            ]
          },
          "metadata": {
            "tags": []
          },
          "execution_count": 4
        }
      ]
    },
    {
      "cell_type": "code",
      "metadata": {
        "id": "4mnC-4ivY9I-"
      },
      "source": [
        "# 모델과 층을 불러온다\n",
        "from keras import models\n",
        "from keras import layers\n",
        "\n",
        "network = models.Sequential()\n",
        "network.add(layers.Dense(512,activation='relu',input_shape=(28*28,)))\n",
        "network.add(layers.Dense(10,activation='softmax'))"
      ],
      "execution_count": null,
      "outputs": []
    },
    {
      "cell_type": "code",
      "metadata": {
        "id": "63-kBK2uZ3pz"
      },
      "source": [
        "network.compile(optimizer='rmsprop',  # 손실함수 기반으로 네트워크 업데이트\n",
        "                loss='categorical_crossentropy', # 손실함수 : 신경망의 성능측정과 네트워크의 올바른실 인도\n",
        "                metrics=['accuracy']) # 훈련과 테스트과정 모니터링할 지표(정확성만 고려)"
      ],
      "execution_count": null,
      "outputs": []
    },
    {
      "cell_type": "code",
      "metadata": {
        "id": "kgoTgg3xNRMv"
      },
      "source": [
        "\n",
        "train_images=train_images.reshape((60000,28*28)) # 배열의 크기를 변경\n",
        "train_images=train_images.astype('float32')/255 # 0과1 사이의 값을 가지는 float32타입으로 변경\n",
        "\n",
        "test_images=test_images.reshape((10000,28*28))\n",
        "test_images=test_images.astype('float32')/255"
      ],
      "execution_count": null,
      "outputs": []
    },
    {
      "cell_type": "code",
      "metadata": {
        "id": "Oqe5PW-hQod_",
        "outputId": "d79712fa-29d7-4274-bbde-97a9a880f85a",
        "colab": {
          "base_uri": "https://localhost:8080/",
          "height": 34
        }
      },
      "source": [
        "train_images.shape"
      ],
      "execution_count": null,
      "outputs": [
        {
          "output_type": "execute_result",
          "data": {
            "text/plain": [
              "(60000, 784)"
            ]
          },
          "metadata": {
            "tags": []
          },
          "execution_count": 8
        }
      ]
    },
    {
      "cell_type": "code",
      "metadata": {
        "id": "JKNwbC14oRiW"
      },
      "source": [
        "# 레이블을 범주형으로 인코딩\n",
        "from keras.utils import  to_categorical \n",
        "\n",
        "\n",
        "train_labels = to_categorical(train_labels)\n",
        "test_labels = to_categorical(test_labels)"
      ],
      "execution_count": null,
      "outputs": []
    },
    {
      "cell_type": "code",
      "metadata": {
        "id": "nF37qzmFpfz0",
        "outputId": "ce14372d-d042-4926-b5df-68e0a9428e24",
        "colab": {
          "base_uri": "https://localhost:8080/",
          "height": 210
        }
      },
      "source": [
        "# fit 메소드로 훈련데이터로 모델학습\n",
        "network.fit(train_images,train_labels,epochs=5, batch_size=128) # network.fit(전체배열,타겟배열) \n",
        "\n",
        "# 결과 손실률, 정확도가 출력됨"
      ],
      "execution_count": null,
      "outputs": [
        {
          "output_type": "stream",
          "text": [
            "Epoch 1/5\n",
            "469/469 [==============================] - 5s 10ms/step - loss: 0.2546 - accuracy: 0.9262\n",
            "Epoch 2/5\n",
            "469/469 [==============================] - 4s 10ms/step - loss: 0.1038 - accuracy: 0.9691\n",
            "Epoch 3/5\n",
            "469/469 [==============================] - 5s 10ms/step - loss: 0.0676 - accuracy: 0.9798\n",
            "Epoch 4/5\n",
            "469/469 [==============================] - 5s 11ms/step - loss: 0.0497 - accuracy: 0.9852\n",
            "Epoch 5/5\n",
            "469/469 [==============================] - 5s 10ms/step - loss: 0.0371 - accuracy: 0.9889\n"
          ],
          "name": "stdout"
        },
        {
          "output_type": "execute_result",
          "data": {
            "text/plain": [
              "<tensorflow.python.keras.callbacks.History at 0x7f963be50898>"
            ]
          },
          "metadata": {
            "tags": []
          },
          "execution_count": 10
        }
      ]
    },
    {
      "cell_type": "code",
      "metadata": {
        "id": "hxJC0muPp72L",
        "outputId": "8a9fbc5f-c95a-4ad8-fdec-413596784b46",
        "colab": {
          "base_uri": "https://localhost:8080/",
          "height": 34
        }
      },
      "source": [
        "# test 세트에서 손실, 정확도 확인\n",
        "test_loss ,test_acc = network.evaluate(test_images,test_labels) # network.evaluate(전체 데이터, 타겟데이터) \n"
      ],
      "execution_count": null,
      "outputs": [
        {
          "output_type": "stream",
          "text": [
            "313/313 [==============================] - 1s 2ms/step - loss: 0.0750 - accuracy: 0.9779\n"
          ],
          "name": "stdout"
        }
      ]
    },
    {
      "cell_type": "code",
      "metadata": {
        "id": "fEnjz085xkUg",
        "cellView": "both",
        "outputId": "573a07bf-e4ca-4b9e-b2bf-f74944686a79",
        "colab": {
          "base_uri": "https://localhost:8080/",
          "height": 34
        }
      },
      "source": [
        "\n",
        "# 테스트 세트의 정확도 출력\n",
        "print('test_acc: ',test_acc)\n",
        "\n",
        "# 결론 : 정확도  97.7%"
      ],
      "execution_count": null,
      "outputs": [
        {
          "output_type": "stream",
          "text": [
            "test_acc:  0.9779000282287598\n"
          ],
          "name": "stdout"
        }
      ]
    },
    {
      "cell_type": "markdown",
      "metadata": {
        "id": "xXuLXNgjzUX1"
      },
      "source": [
        "### 2.1 결론 \n",
        "### 훈련세트보다 테스트세트의 정확도가 낮아짐=> 과대적합(overfitting) 때문\n"
      ]
    },
    {
      "cell_type": "markdown",
      "metadata": {
        "id": "Ls1rd34bz8TM"
      },
      "source": [
        "#2.2 신경망을 위한 데이터 표현"
      ]
    },
    {
      "cell_type": "markdown",
      "metadata": {
        "id": "r_u3rpp80vfA"
      },
      "source": [
        "텐서(tensor) :  다차원 넘파이 배열저장하는 컨테이너"
      ]
    },
    {
      "cell_type": "markdown",
      "metadata": {
        "id": "96IWEugH1abN"
      },
      "source": [
        "2.2.1 0차원 텐서  \n",
        "스칼라 텐서 : 하나의 숫자만 담고 있음  \n",
        "랭크(rank) : 텐서의 축 갯수 스칼라의 랭크는 0  \n",
        "ndim : (num of dimension)축의개수 확인하는 메소드"
      ]
    },
    {
      "cell_type": "code",
      "metadata": {
        "id": "CeBBxM292RQt"
      },
      "source": [
        "import numpy as np\n",
        "x=np.array(12)\n",
        "x\n",
        "x.ndim # ndim : 축의 갯수\n"
      ],
      "execution_count": null,
      "outputs": []
    },
    {
      "cell_type": "markdown",
      "metadata": {
        "id": "TdVvvPv73c18"
      },
      "source": [
        "2.2.2 1차원 텐서( 벡터)"
      ]
    },
    {
      "cell_type": "code",
      "metadata": {
        "id": "N0DJBfOw2bny"
      },
      "source": [
        "x= np.array([12,3,6,14,7]) # 5차원 멕터\n",
        "x"
      ],
      "execution_count": null,
      "outputs": []
    },
    {
      "cell_type": "markdown",
      "metadata": {
        "id": "0ommSgjf34Xk"
      },
      "source": [
        "5차원 텐서 : 축이 5개  \n",
        "5차원 벡터 : 한 축을 따라 차원이 5개"
      ]
    },
    {
      "cell_type": "code",
      "metadata": {
        "id": "P-G1yd-G3Gby"
      },
      "source": [
        "x.ndim # 벡터의 축개수는 1"
      ],
      "execution_count": null,
      "outputs": []
    },
    {
      "cell_type": "markdown",
      "metadata": {
        "id": "C8ilBIwe5Dut"
      },
      "source": [
        "2.2.3 행렬(2차원 텐서)  \n",
        "행,열"
      ]
    },
    {
      "cell_type": "code",
      "metadata": {
        "id": "Bqll8ZHY3NE5"
      },
      "source": [
        "x=np.array([[1,2,3,4,5],\n",
        "           [6,7,8,9,0],\n",
        "           [7,5,3,4,2]])\n",
        "x.ndim # 행렬의 축의 개수 2"
      ],
      "execution_count": null,
      "outputs": []
    },
    {
      "cell_type": "markdown",
      "metadata": {
        "id": "AjYKpd-q5u7z"
      },
      "source": [
        "2.2.4 3차워 텐서와 고차원 텐서"
      ]
    },
    {
      "cell_type": "code",
      "metadata": {
        "id": "lncOGfI05eZ0"
      },
      "source": [
        "x=np.array([[[1,2,3,4,5],\n",
        "           [6,7,8,9,0],\n",
        "           [7,5,3,4,2]],\n",
        "            [[1,2,3,4,5],\n",
        "           [6,7,8,9,0],\n",
        "           [7,5,3,4,2]],\n",
        "            [[1,2,3,4,5],\n",
        "           [6,7,8,9,0],\n",
        "           [7,5,3,4,2]]])\n",
        "x.ndim # 3차원 텐서의 축의 개수 3"
      ],
      "execution_count": null,
      "outputs": []
    },
    {
      "cell_type": "markdown",
      "metadata": {
        "id": "eM8l4h9Y7EZt"
      },
      "source": [
        "###2.2.5 핵심속성  \n",
        "1) 축의개수(랭크)  : ndim  \n",
        "2) 크기(shape)  : (), (1),(3,4) (1,3,5)  \n",
        "3) 데이터 타입 : float32,unit8 등등"
      ]
    },
    {
      "cell_type": "code",
      "metadata": {
        "id": "c9J0P9iU6YxC"
      },
      "source": [
        "from keras.datasets import mnist\n",
        "(train_images,train_labels),(test_images,test_labels)= mnist.load_data()\n",
        "\n",
        "print(train_images.ndim) # 훈련세트의 축 개수\n",
        "print(train_images.shape) # (z축, x축,y축) 이라 생각\n",
        "print(train_images.dtype) # dtpye : 데이터 타입 \n",
        "# unit8 : 8비트 정수형"
      ],
      "execution_count": null,
      "outputs": []
    },
    {
      "cell_type": "code",
      "metadata": {
        "id": "uEtj9UTU864T"
      },
      "source": [
        "# 데이터셋의 5번째 샘플 출력\n",
        "\n",
        "digit = train_images[4]\n",
        "\n",
        "import matplotlib.pyplot as plt # 맷플롯 plt로 수입\n",
        "plt.imshow(digit,cmap = plt.cm.binary) # imshow() : cmap으로 이미지  \n",
        "plt.show() # show(): 이미지 출력\n"
      ],
      "execution_count": null,
      "outputs": []
    },
    {
      "cell_type": "markdown",
      "metadata": {
        "id": "jczlBbTo_Bw3"
      },
      "source": [
        "###2.2.6 넘파이로 텐서 조작하기  \n",
        "슬라이싱(slicing) : 배열의 특정원소 선택"
      ]
    },
    {
      "cell_type": "code",
      "metadata": {
        "id": "nzWRHeAf95MK"
      },
      "source": [
        "# 슬라이싱\n",
        "my_slice = train_images[10:100] # 첫번째 축 11번 부터 100까지 원소 슬라이싱\n",
        "my_slice.shape\n"
      ],
      "execution_count": null,
      "outputs": []
    },
    {
      "cell_type": "code",
      "metadata": {
        "id": "5gqdP0uZ_aqo"
      },
      "source": [
        "# : 끝까지 범위\n",
        "my_slice = train_images[10:100, : , :] # 위와 동일\n",
        "my_slice = train_images[:,0:28,:] # 위와 동일\n",
        "\n",
        "my_slice = train_images[:,14:,14:] \n",
        "my_slice = train_images[: ,7:-7, 7:-7] # 음수는 끝에서 부터 반대방향으로 "
      ],
      "execution_count": null,
      "outputs": []
    },
    {
      "cell_type": "markdown",
      "metadata": {
        "id": "q58wgE5cBRaD"
      },
      "source": [
        "###2.2.7 배치데이터  \n",
        "* 텐서의 첫번째 축 = 샘플축(sample axis) 또는 샘플 차원(sample dimension)  \n",
        "* 딥러닝은 데이터를 작은 배치로 나누어 처리한다"
      ]
    },
    {
      "cell_type": "code",
      "metadata": {
        "id": "5PZmMErHAy4m"
      },
      "source": [
        "# 첫번째 배치\n",
        "batch = train_images[:128]\n",
        "# 두번째 배치\n",
        "batch = train_images[128:256]\n",
        "# n번째 배치\n",
        "n=10\n",
        "batch = train_images[128*n : 128*(n+1)]"
      ],
      "execution_count": null,
      "outputs": []
    },
    {
      "cell_type": "markdown",
      "metadata": {
        "id": "48WL9ZkCCt8A"
      },
      "source": [
        "* 이런 배치데이터의 첫번째 축을 배치축(batch axis) 또는 배치차원(batch dimension)"
      ]
    },
    {
      "cell_type": "markdown",
      "metadata": {
        "id": "MaUZyRqwDqBY"
      },
      "source": [
        "###2.2.8 텐서의 대표 종류  \n",
        "* 벡터 데이터 : 2차원 텐서\n",
        "* 시계열 데이터,시퀀스데이터 : 3차원 데이터\n",
        "* 이미지 : 4차원 텐서\n",
        "* 동영상 : 5차원 텐서"
      ]
    },
    {
      "cell_type": "markdown",
      "metadata": {
        "id": "19SDfFipEewt"
      },
      "source": [
        "#### 1)벡터 데이터   \n",
        "* (샘플축 , 특성축)\n",
        "\n",
        "####2) 시계열 데이터 , 시퀀스데이터 (샘플축, 시간축, 특성축)\n",
        "예) 주식가격 데이터셋 : (250,390,3) 250일 하루390분 정보 3개 포함 \n",
        "\n",
        "####3) 이미지 데이터 (샘플축, 높이축, 너비축, 색 축)  \n",
        "\n",
        "####4) 동영상 : (샘플, 프레임, 높이, 너비, 색 )\n"
      ]
    },
    {
      "cell_type": "markdown",
      "metadata": {
        "id": "XBoEfTsIEzd9"
      },
      "source": [
        "#2.3 텐서 연산\n"
      ]
    },
    {
      "cell_type": "markdown",
      "metadata": {
        "id": "zBVuQAW5YWGb"
      },
      "source": [
        "###2.3.1 원소별 연산\n"
      ]
    },
    {
      "cell_type": "code",
      "metadata": {
        "id": "UOO7hX49Cfo0"
      },
      "source": [
        "# relu = max(x,0)연산 원소별 구현\n",
        "# 기본 파이썬 구현\n",
        "def naive_relu(x):\n",
        "  assert len(x.shape())==2 # x가 2차원 텐서 선언\n",
        "\n",
        "  x=x.copy() # 입력 텐서 자체를 바꾸기 않는다  Q) 이해가 잘 안됨 \n",
        "  for i in range(x.shape[0]):\n",
        "    for j in range(x.shape[1]):\n",
        "      x[i,j]=max(x[i,j],0)\n",
        "  return x"
      ],
      "execution_count": null,
      "outputs": []
    },
    {
      "cell_type": "code",
      "metadata": {
        "id": "5VmRSmgdbFlp"
      },
      "source": [
        "#넘파이 내장 함수 이용 \n",
        "import numpy as np\n",
        "x=[1,2]\n",
        "y=[4,3]\n",
        "z=x+y # 원소별 덧셈\n",
        "z=np.maximum(z,0.) # 원소별 relu 함수 이용\n",
        "print(z)"
      ],
      "execution_count": null,
      "outputs": []
    },
    {
      "cell_type": "markdown",
      "metadata": {
        "id": "Q5EZQblFdT7S"
      },
      "source": [
        "###2.3.2 브로드 캐스팅(broadcasting)\n",
        ":작은 텐서의 크기를 큰 텐서에 맞추는것"
      ]
    },
    {
      "cell_type": "code",
      "metadata": {
        "id": "tcJGi2wqbaoa"
      },
      "source": [
        "# 예) 1행10열 y 를 10행10열 x축에 맞추는것\n",
        "\n",
        "# 파이썬 구현\n",
        "def add_matrix_ane_vector(x,y):\n",
        "  assert len(x.shape) == 2 # x 는 2차원\n",
        "  assert len(y.shape) == 1 # y는 1차원 텐서\n",
        "  assert x.shape[1] == y.shape[0] # 열의 개수가 같다\n",
        "\n",
        "  x=x.copy\n",
        "  for i in range(x.shape[0]):\n",
        "    for j in range(x.shape[1]):\n",
        "      x[i,j]+=y[i]\n",
        " return x"
      ],
      "execution_count": null,
      "outputs": []
    },
    {
      "cell_type": "code",
      "metadata": {
        "id": "piIpaVR-fMLU"
      },
      "source": [
        "# 넘파이 내장함수 구현\n",
        "import numpy as np\n",
        "x=np.random.random((64,3,32,10)) # 4차원 텐서\n",
        "y=np.random.random((32,10)) \n",
        "z=np.maximum(x,y) # 크기 자동 맞춰짐\n",
        "\n",
        "#결론:  자동으로 맞춰짐"
      ],
      "execution_count": null,
      "outputs": []
    },
    {
      "cell_type": "markdown",
      "metadata": {
        "id": "BqJ0gEzOgxqz"
      },
      "source": [
        "###2.3.3 텐서의 점곱 연산(dot)(=배열 곱셈,벡터 내적)\n",
        ": 배열 곱셈(!=원소별 곱셈) \n",
        ": (1행*2열) * (2행*3열)=(1행*3열)"
      ]
    },
    {
      "cell_type": "code",
      "metadata": {
        "id": "WrfsNHlqi2Ei"
      },
      "source": [
        "# 파이썬 구현\n",
        "\n",
        "# 1차원* 1차원\n",
        " assert len(x.shape) == 1 # x 는 1차원\n",
        "  assert len(y.shape) == 1 # y는 1차원\n",
        "  assert x.shape[0] == y.shape[0] # 행,열의 개수가 같다\n",
        "\n",
        "  z=0\n",
        "  for i in range(x.shape[0]):\n",
        "    z += x[i]*y[i]\n",
        "  return z  \n",
        "\n",
        "  "
      ],
      "execution_count": null,
      "outputs": []
    },
    {
      "cell_type": "code",
      "metadata": {
        "id": "Ueflo9_9kAcn"
      },
      "source": [
        "# 넘파이 내장 함수 구현\n",
        "import numpy as np\n",
        "\n",
        "z=np.dot(x,y)\n"
      ],
      "execution_count": null,
      "outputs": []
    },
    {
      "cell_type": "markdown",
      "metadata": {
        "id": "ses179PUlqE1"
      },
      "source": [
        "###2.3.4 텐서 크기변환(reshaping)\n",
        ": 행과 열의 갯수를 변환"
      ]
    },
    {
      "cell_type": "code",
      "metadata": {
        "id": "MAZIuQt6l7q6"
      },
      "source": [
        "# 행렬 크기 변환ㄴ\n",
        "x=np.array([[0,1],\n",
        "            [2,3],\n",
        "            [4,5]])\n",
        "\n",
        "print(x.shape) # 3행 2열\n",
        "x=x.reshape((6,1)) # 변환\n",
        "print(x.shape)\n",
        "x"
      ],
      "execution_count": null,
      "outputs": []
    },
    {
      "cell_type": "code",
      "metadata": {
        "id": "h8DX2adLmKve"
      },
      "source": [
        "# 전치 (transposition)\n",
        "x=np.zeros((300,20))\n",
        "print(x.shape)\n",
        "x=np.transpose(x) # 전치\n",
        "print(x.shape)"
      ],
      "execution_count": null,
      "outputs": []
    },
    {
      "cell_type": "markdown",
      "metadata": {
        "id": "Y_zmwG-ZntCn"
      },
      "source": [
        "###2.3.5 텐서연산의 기하학적 해석\n",
        "* 좌표축 상으로 벡터의 연산으로 생각 가능"
      ]
    },
    {
      "cell_type": "code",
      "metadata": {
        "id": "tKVuasPInBf7"
      },
      "source": [
        "# 벡터 덧셈 \n",
        "# 아핀변환(아핀공간으로의 변환) ,회전,스케일링 가능   Q) 잘 몰겠음\n"
      ],
      "execution_count": null,
      "outputs": []
    },
    {
      "cell_type": "markdown",
      "metadata": {
        "id": "gR5Km9JDpLBp"
      },
      "source": [
        "###2.3.6 딥러닝의 기하학적 해석\n",
        ": 종이를 구겨논 공을 펼치는것 => manifold된 2 차원 펼치기\n"
      ]
    },
    {
      "cell_type": "markdown",
      "metadata": {
        "id": "IgtDW914qK3k"
      },
      "source": [
        "#2.4 신경망의 엔진 : 그래디언트 기반 최적화\n",
        "\n",
        "1. 가중치(weight)=파라미터 : 중요도\n",
        "2. 훈련 : 피드백에 의하여 중요도 변한\n",
        "3. 훈련 반복 루프 :손실이 최소화 될 때 까지 훈련 반복  \n",
        " 1) 훈련샘플 x 와 타깃 y 추출    \n",
        " 2) x를 네트워크를 사용하여 y예측값 구함  \n",
        " 3) y예측과 y 의 손실을 계산  \n",
        " 4) 모든 가중치 업데이트\n"
      ]
    },
    {
      "cell_type": "markdown",
      "metadata": {
        "id": "LrFq3L4CtLFh"
      },
      "source": [
        "###2.4.1 변화율\n",
        ": 함수의 미분값 \n",
        "\n",
        "* 변화율에 따라 감소시킬지 증가시킬지 알 수 있다.=> 변화율 양수(감소하려면 반대방향)"
      ]
    },
    {
      "cell_type": "markdown",
      "metadata": {
        "id": "AG3wudthuBxD"
      },
      "source": [
        "###2.4.2 그래디언트(텐서 연산의 변화율) = 손실함수의 변화율\n",
        ": 손실값의 변화율을 구해 손실의 증/감을 정한다\n",
        "\n"
      ]
    },
    {
      "cell_type": "code",
      "metadata": {
        "id": "4BrlKr6bv0Ao"
      },
      "source": [
        "y_pred = dot(W,x) \n",
        "loss_value = loss(y_pred,y)\n",
        "loss_value = f(W)\n",
        "\n",
        "gradient(f)(W) # 손실함수 f의 도함수\n",
        "\n"
      ],
      "execution_count": null,
      "outputs": []
    },
    {
      "cell_type": "markdown",
      "metadata": {
        "id": "WV9t2970xK-q"
      },
      "source": [
        "###2.4.3 확률적 경사 하강법\n",
        "1.  손실함수의 변화율(기울기)=0 일때 최솟값을 찾아서 정하면 된다   \n",
        "But 값이 너무 많다 -> 경사하강법 사용\n",
        "\n",
        "2. 과정 (미니배치 확률적 경사하강법(SGD))\n",
        "1) 훈련샘플 x 타깃 y 추출  \n",
        "2) y_pred 구함  \n",
        "3) y_pred 오 y 손실 계산  \n",
        "4) 손실함수의 그래디언트 계산  \n",
        "5) 그래디언트 반대방향으로 파라미터 조금 이동 (W -=step*gradeint)   \n",
        "(단점 : 지역 최솟값에 갇힐 수 있다)=>최적화  \n",
        "요약 : step값에 따라 조금씩 최솟값으로 이동\n",
        "\n",
        "3. 최적화 방법(옵티마이저)\n",
        ": 현재와 이전의 기울기를 모두 고려해 이동 (지역최솟값 해결)\n",
        "\n",
        "\n"
      ]
    },
    {
      "cell_type": "code",
      "metadata": {
        "id": "cf3OSEsR20SC"
      },
      "source": [
        "# 최적화 방법 구현\n",
        "past_velocity = 0.\n",
        "momentum = 0.1 # 모멘텀 상수\n",
        "while loss>0.01:\n",
        "  w,loss,gradient = get_current_parameters() # 파라미터 불러오고\n",
        "  velocity = momentum * past_velocity - learning_rate * gradient # 현재속도 = 전의 속도와 연관\n",
        "  w= w+momentum* velocity - learning_rate*gradient # 현재속도 이용해서 파라미터 결정\n",
        "  past_velocity = velocity # 과거속도에 현재속도 저장\n",
        "  update_parameter(w) # 파라미터 업데이트"
      ],
      "execution_count": null,
      "outputs": []
    },
    {
      "cell_type": "markdown",
      "metadata": {
        "id": "eI3h4x9T395d"
      },
      "source": [
        "###2.4.4 변화율 연결: 역전파 알고리즘      ////Q) 잘모르겠음"
      ]
    },
    {
      "cell_type": "markdown",
      "metadata": {
        "id": "UiPE60fRNpZr"
      },
      "source": [
        "###2.4.5 처음 숫자분류기 다시 복습"
      ]
    },
    {
      "cell_type": "code",
      "metadata": {
        "id": "5KWNDmChJ-sv"
      },
      "source": [
        "from keras.datasets import mnist \n",
        "(train_images,train_labels),(test_images,test_labels)= mnist.load_data() # mnist에서 데이터 불러오기"
      ],
      "execution_count": null,
      "outputs": []
    },
    {
      "cell_type": "code",
      "metadata": {
        "id": "ugxtie3_KWEm"
      },
      "source": [
        "# 훈련시키기 전 크기와 데이터 타입 전처리\n",
        "train_images=train_images.reshape((60000,28*28)) # 배열의 크기를 변경\n",
        "train_images=train_images.astype('float32')/255 # 0과1 사이의 값을 가지는 float32타입으로 변경\n",
        "\n",
        "test_images=test_images.reshape((10000,28*28))\n",
        "test_images=test_images.astype('float32')/255"
      ],
      "execution_count": null,
      "outputs": []
    },
    {
      "cell_type": "code",
      "metadata": {
        "id": "kH-ECSoOK5rG"
      },
      "source": [
        "# 모델과 층을 불러온다\n",
        "from keras import models\n",
        "from keras import layers\n",
        "\n",
        "network = models.Sequential()\n",
        "network.add(layers.Dense(512,activation='relu',input_shape=(28*28,))) # dense 층 2개 추가\n",
        "network.add(layers.Dense(10,activation='softmax'))"
      ],
      "execution_count": null,
      "outputs": []
    },
    {
      "cell_type": "code",
      "metadata": {
        "id": "j6qca9cuLBXB"
      },
      "source": [
        "# 네크워크 컴파일\n",
        "network.compile(optimizer='rmsprop',  # rmsprop : 미니배치경사 하강법 \n",
        "                loss='categorical_crossentropy', # 손실함수 : 신경망의 성능측정과 네트워크의 올바른실 인도\n",
        "                metrics=['accuracy']) # 훈련과 테스트과정 모니터링할 지표(정확성만 고려)"
      ],
      "execution_count": null,
      "outputs": []
    },
    {
      "cell_type": "code",
      "metadata": {
        "id": "mCyozxLfNOjb"
      },
      "source": [
        "# 레이블을 범주형으로 인코딩\n",
        "from keras.utils import  to_categorical \n",
        "\n",
        "\n",
        "train_labels = to_categorical(train_labels)\n",
        "test_labels = to_categorical(test_labels)"
      ],
      "execution_count": null,
      "outputs": []
    },
    {
      "cell_type": "code",
      "metadata": {
        "id": "AnmRnGbTL19-"
      },
      "source": [
        "# fit 메소드로 훈련반복으로 모델 학습 \n",
        "network.fit(train_images,train_labels,epochs=5, batch_size=128) \n",
        "# network.fit(전체배열,타겟배열) \n",
        "# epochs : 반복 횟수 , batch_size : 한번에 학습하는 개수\n",
        "\n",
        "\n",
        "# 결론 : 손실률, 정확도가 출력됨"
      ],
      "execution_count": null,
      "outputs": []
    },
    {
      "cell_type": "code",
      "metadata": {
        "id": "B4TS_vBJMntw"
      },
      "source": [
        "train_images.shape"
      ],
      "execution_count": null,
      "outputs": []
    },
    {
      "cell_type": "code",
      "metadata": {
        "id": "OKaT0-unO4Xm"
      },
      "source": [
        ""
      ],
      "execution_count": null,
      "outputs": []
    }
  ]
}