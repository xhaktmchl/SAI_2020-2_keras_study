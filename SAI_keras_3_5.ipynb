{
  "nbformat": 4,
  "nbformat_minor": 0,
  "metadata": {
    "colab": {
      "name": "SAI_keras_3.5.ipynb",
      "provenance": [],
      "mount_file_id": "1JJ7bAklPEmMX7SqZoa0xIkpKGseWVVvq",
      "authorship_tag": "ABX9TyPjQcnt5t8TxfSZWEViFhfI",
      "include_colab_link": true
    },
    "kernelspec": {
      "name": "python3",
      "display_name": "Python 3"
    }
  },
  "cells": [
    {
      "cell_type": "markdown",
      "metadata": {
        "id": "view-in-github",
        "colab_type": "text"
      },
      "source": [
        "<a href=\"https://colab.research.google.com/github/xhaktmchl/SAI_2020-2_keras_study/blob/main/SAI_keras_3_5.ipynb\" target=\"_parent\"><img src=\"https://colab.research.google.com/assets/colab-badge.svg\" alt=\"Open In Colab\"/></a>"
      ]
    },
    {
      "cell_type": "markdown",
      "metadata": {
        "id": "7jIEHAOH3X6x"
      },
      "source": [
        "#3.5 뉴스 기사 분류: 다중 분류 문제\n",
        "\n",
        "###로이터 데이터셋\n",
        ": 짧은 기사나 토픽들의 데이터셋"
      ]
    },
    {
      "cell_type": "code",
      "metadata": {
        "id": "pyIsYXsC1xhF",
        "outputId": "3af7558e-6cd7-41e2-a22c-a1d91b3ee569",
        "colab": {
          "base_uri": "https://localhost:8080/",
          "height": 35
        }
      },
      "source": [
        "from tensorflow import keras\n",
        "keras.__version__"
      ],
      "execution_count": null,
      "outputs": [
        {
          "output_type": "execute_result",
          "data": {
            "application/vnd.google.colaboratory.intrinsic+json": {
              "type": "string"
            },
            "text/plain": [
              "'2.4.0'"
            ]
          },
          "metadata": {
            "tags": []
          },
          "execution_count": 1
        }
      ]
    },
    {
      "cell_type": "markdown",
      "metadata": {
        "id": "Q5dK9eR84Yqu"
      },
      "source": [
        "로이터 데이터셋을 불러들인다."
      ]
    },
    {
      "cell_type": "code",
      "metadata": {
        "id": "SaPbTwq-3smD",
        "outputId": "c10fce19-4b82-4e45-87c8-b7be1460e711",
        "colab": {
          "base_uri": "https://localhost:8080/",
          "height": 52
        }
      },
      "source": [
        "from tensorflow.keras.datasets import reuters\n",
        "\n",
        "(train_data, train_labels), (test_data, test_labels) = reuters.load_data(num_words=10000)\n",
        "#num_words=10000 매개변수는 데이터에서 가장 자주 등장하는 단어 10,000개로 제한\n"
      ],
      "execution_count": null,
      "outputs": [
        {
          "output_type": "stream",
          "text": [
            "Downloading data from https://storage.googleapis.com/tensorflow/tf-keras-datasets/reuters.npz\n",
            "2113536/2110848 [==============================] - 0s 0us/step\n"
          ],
          "name": "stdout"
        }
      ]
    },
    {
      "cell_type": "markdown",
      "metadata": {
        "id": "LBN0iAA14mM8"
      },
      "source": [
        "\n",
        " 이제 데이터의 기본 정보 확인한다"
      ]
    },
    {
      "cell_type": "code",
      "metadata": {
        "id": "KuWOYwqI4oEw",
        "outputId": "532f5bc4-3073-424b-f19b-32d37fea1f97",
        "colab": {
          "base_uri": "https://localhost:8080/",
          "height": 34
        }
      },
      "source": [
        "len(train_data) # 훈련데이터 8982개"
      ],
      "execution_count": null,
      "outputs": [
        {
          "output_type": "execute_result",
          "data": {
            "text/plain": [
              "8982"
            ]
          },
          "metadata": {
            "tags": []
          },
          "execution_count": 3
        }
      ]
    },
    {
      "cell_type": "code",
      "metadata": {
        "id": "f3KGmGuA46JT",
        "outputId": "044752fc-878e-4a0f-f001-610de6b711b0",
        "colab": {
          "base_uri": "https://localhost:8080/",
          "height": 34
        }
      },
      "source": [
        "len(test_data) # 테스트 데이터 2246개"
      ],
      "execution_count": null,
      "outputs": [
        {
          "output_type": "execute_result",
          "data": {
            "text/plain": [
              "2246"
            ]
          },
          "metadata": {
            "tags": []
          },
          "execution_count": 4
        }
      ]
    },
    {
      "cell_type": "code",
      "metadata": {
        "id": "ImtdkP8d6_h7",
        "outputId": "815c794d-ca75-48e5-b5f8-96b69b0660cc",
        "colab": {
          "base_uri": "https://localhost:8080/",
          "height": 562
        }
      },
      "source": [
        "train_data[10]"
      ],
      "execution_count": null,
      "outputs": [
        {
          "output_type": "execute_result",
          "data": {
            "text/plain": [
              "[1,\n",
              " 245,\n",
              " 273,\n",
              " 207,\n",
              " 156,\n",
              " 53,\n",
              " 74,\n",
              " 160,\n",
              " 26,\n",
              " 14,\n",
              " 46,\n",
              " 296,\n",
              " 26,\n",
              " 39,\n",
              " 74,\n",
              " 2979,\n",
              " 3554,\n",
              " 14,\n",
              " 46,\n",
              " 4689,\n",
              " 4329,\n",
              " 86,\n",
              " 61,\n",
              " 3499,\n",
              " 4795,\n",
              " 14,\n",
              " 61,\n",
              " 451,\n",
              " 4329,\n",
              " 17,\n",
              " 12]"
            ]
          },
          "metadata": {
            "tags": []
          },
          "execution_count": 9
        }
      ]
    },
    {
      "cell_type": "markdown",
      "metadata": {
        "id": "bTE8BfLu7bMG"
      },
      "source": [
        "정수형 데이터 확인"
      ]
    },
    {
      "cell_type": "code",
      "metadata": {
        "id": "TkNKzbgF7O4z",
        "outputId": "67357d91-6f47-4786-bb17-05bf3adf4ec4",
        "colab": {
          "base_uri": "https://localhost:8080/",
          "height": 34
        }
      },
      "source": [
        "train_labels[2]"
      ],
      "execution_count": null,
      "outputs": [
        {
          "output_type": "execute_result",
          "data": {
            "text/plain": [
              "3"
            ]
          },
          "metadata": {
            "tags": []
          },
          "execution_count": 10
        }
      ]
    },
    {
      "cell_type": "markdown",
      "metadata": {
        "id": "JhdQM89C7sa1"
      },
      "source": [
        "### 데이터 전처리\n"
      ]
    },
    {
      "cell_type": "markdown",
      "metadata": {
        "id": "HK1jSbEz9ihI"
      },
      "source": [
        "전처리 방법1\n",
        ":리스트를 정수 텐서로 변환"
      ]
    },
    {
      "cell_type": "code",
      "metadata": {
        "id": "zqZeZyE-7mCw"
      },
      "source": [
        "import numpy as np\n",
        "\n",
        "def vectorize_sequences(sequences, dimension=10000):\n",
        "    results = np.zeros((len(sequences), dimension)) #0으로 초기화\n",
        "    for i, sequence in enumerate(sequences):\n",
        "        results[i, sequence] = 1.\n",
        "    return results\n",
        "\n",
        "# 훈련 데이터 벡터 변환\n",
        "x_train = vectorize_sequences(train_data)\n",
        "# 테스트 데이터 벡터 변환\n",
        "x_test = vectorize_sequences(test_data)"
      ],
      "execution_count": null,
      "outputs": []
    },
    {
      "cell_type": "markdown",
      "metadata": {
        "id": "Jw6vzyA89q7s"
      },
      "source": [
        "전처리 방법 2: 원-핫 이코딩 내장함수 이용"
      ]
    },
    {
      "cell_type": "code",
      "metadata": {
        "id": "Pi-CiNGm8GZG"
      },
      "source": [
        "from tensorflow.keras.utils import to_categorical\n",
        "\n",
        "one_hot_train_labels = to_categorical(train_labels)\n",
        "one_hot_test_labels = to_categorical(test_labels)\n"
      ],
      "execution_count": null,
      "outputs": []
    },
    {
      "cell_type": "markdown",
      "metadata": {
        "id": "lJ7mHJ1n99xN"
      },
      "source": [
        "# 모델 정의\n",
        "Dense층은 이전층의 정보만 제공->누락된 정보활용 못함-> 정보의 병목이 될 수 있음->적은 정보가지고 46개 층을 구분하기는 힘듦\n",
        "\n",
        "이런 이유로  큰 층을 사용 = 64개의 유닛\n"
      ]
    },
    {
      "cell_type": "code",
      "metadata": {
        "id": "fQ0hh8kQ_W1U"
      },
      "source": [
        "from tensorflow.keras import models\n",
        "from tensorflow.keras import layers\n",
        "\n",
        "model = models.Sequential()\n",
        "model.add(layers.Dense(64, activation='relu', input_shape=(10000,)))\n",
        "model.add(layers.Dense(64, activation='relu'))\n",
        "model.add(layers.Dense(46, activation='softmax'))\n"
      ],
      "execution_count": null,
      "outputs": []
    },
    {
      "cell_type": "markdown",
      "metadata": {
        "id": "9Y9ESqTeAGgS"
      },
      "source": [
        "* 마지막 Dense 층의 크기만 46 => 46개로 출력\n",
        "* 마지막 층에 softmax 활성화 함수가 사용되었습니다. MNIST 예제에서 이런 방식을 보았습니다. 각 입력 샘플마다 46개의 출력 클래스에 대한 확률 분포를 출력합니다. 즉, 46차원의 출력 벡터를 만들며 output[i]는 어떤 샘플이 클래스 i에 속할 확률입니다. 46개의 값을 모두 더하면 1이 됩니다.\n",
        "\n",
        "\n",
        "손실 함수는 categorical_crossentropy = 두 확률 분포의 사이의 거리를 측정 네트워크가 출력한 확률 분포와 진짜 레이블의 분포 사이의 거리.   \n",
        "-> 두 분포 사이의 거리를 최소화하도록 훈련"
      ]
    },
    {
      "cell_type": "code",
      "metadata": {
        "id": "0J2gmsRI_YnE"
      },
      "source": [
        "model.compile(optimizer='rmsprop',\n",
        "              loss='categorical_crossentropy',\n",
        "              metrics=['accuracy'])"
      ],
      "execution_count": null,
      "outputs": []
    },
    {
      "cell_type": "markdown",
      "metadata": {
        "id": "-z0R6JYEBrSo"
      },
      "source": [
        "### 훈련 검증(fit으로 반복)\n",
        "훈련 데이터에서 1,000개의 샘플을 따로 떼어서 검증 세트로 사용:"
      ]
    },
    {
      "cell_type": "code",
      "metadata": {
        "id": "xljcE2fXCFKB"
      },
      "source": [
        "x_val = x_train[:1000]\n",
        "partial_x_train = x_train[1000:]\n",
        "\n",
        "y_val = one_hot_train_labels[:1000]\n",
        "partial_y_train = one_hot_train_labels[1000:]"
      ],
      "execution_count": null,
      "outputs": []
    },
    {
      "cell_type": "code",
      "metadata": {
        "id": "30R4Pt9ZCM45",
        "outputId": "122cb24b-7577-443d-ee98-cba6ca6278a5",
        "colab": {
          "base_uri": "https://localhost:8080/",
          "height": 721
        }
      },
      "source": [
        "# 20번의 에포크로 모델을 훈련\n",
        "history = model.fit(partial_x_train,\n",
        "                    partial_y_train,\n",
        "                    epochs=20,\n",
        "                    batch_size=512,\n",
        "                    validation_data=(x_val, y_val))"
      ],
      "execution_count": null,
      "outputs": [
        {
          "output_type": "stream",
          "text": [
            "Epoch 1/20\n",
            "16/16 [==============================] - 1s 57ms/step - loss: 2.5356 - accuracy: 0.5262 - val_loss: 1.6849 - val_accuracy: 0.6410\n",
            "Epoch 2/20\n",
            "16/16 [==============================] - 1s 44ms/step - loss: 1.3978 - accuracy: 0.7060 - val_loss: 1.2842 - val_accuracy: 0.7270\n",
            "Epoch 3/20\n",
            "16/16 [==============================] - 1s 42ms/step - loss: 1.0381 - accuracy: 0.7749 - val_loss: 1.1246 - val_accuracy: 0.7640\n",
            "Epoch 4/20\n",
            "16/16 [==============================] - 1s 43ms/step - loss: 0.8125 - accuracy: 0.8277 - val_loss: 1.0124 - val_accuracy: 0.7970\n",
            "Epoch 5/20\n",
            "16/16 [==============================] - 1s 45ms/step - loss: 0.6483 - accuracy: 0.8637 - val_loss: 0.9585 - val_accuracy: 0.8000\n",
            "Epoch 6/20\n",
            "16/16 [==============================] - 1s 43ms/step - loss: 0.5192 - accuracy: 0.8882 - val_loss: 0.9036 - val_accuracy: 0.8110\n",
            "Epoch 7/20\n",
            "16/16 [==============================] - 1s 44ms/step - loss: 0.4163 - accuracy: 0.9133 - val_loss: 0.8826 - val_accuracy: 0.8190\n",
            "Epoch 8/20\n",
            "16/16 [==============================] - 1s 43ms/step - loss: 0.3377 - accuracy: 0.9270 - val_loss: 0.8886 - val_accuracy: 0.8100\n",
            "Epoch 9/20\n",
            "16/16 [==============================] - 1s 45ms/step - loss: 0.2818 - accuracy: 0.9387 - val_loss: 0.8876 - val_accuracy: 0.8200\n",
            "Epoch 10/20\n",
            "16/16 [==============================] - 1s 43ms/step - loss: 0.2364 - accuracy: 0.9445 - val_loss: 0.8773 - val_accuracy: 0.8230\n",
            "Epoch 11/20\n",
            "16/16 [==============================] - 1s 43ms/step - loss: 0.2070 - accuracy: 0.9486 - val_loss: 0.9159 - val_accuracy: 0.8120\n",
            "Epoch 12/20\n",
            "16/16 [==============================] - 1s 44ms/step - loss: 0.1763 - accuracy: 0.9519 - val_loss: 0.9105 - val_accuracy: 0.8240\n",
            "Epoch 13/20\n",
            "16/16 [==============================] - 1s 44ms/step - loss: 0.1616 - accuracy: 0.9531 - val_loss: 0.9574 - val_accuracy: 0.8080\n",
            "Epoch 14/20\n",
            "16/16 [==============================] - 1s 42ms/step - loss: 0.1469 - accuracy: 0.9562 - val_loss: 1.0139 - val_accuracy: 0.8060\n",
            "Epoch 15/20\n",
            "16/16 [==============================] - 1s 45ms/step - loss: 0.1419 - accuracy: 0.9554 - val_loss: 0.9799 - val_accuracy: 0.8120\n",
            "Epoch 16/20\n",
            "16/16 [==============================] - 1s 43ms/step - loss: 0.1302 - accuracy: 0.9562 - val_loss: 0.9986 - val_accuracy: 0.8110\n",
            "Epoch 17/20\n",
            "16/16 [==============================] - 1s 44ms/step - loss: 0.1242 - accuracy: 0.9567 - val_loss: 1.0057 - val_accuracy: 0.8070\n",
            "Epoch 18/20\n",
            "16/16 [==============================] - 1s 43ms/step - loss: 0.1205 - accuracy: 0.9565 - val_loss: 1.0151 - val_accuracy: 0.8070\n",
            "Epoch 19/20\n",
            "16/16 [==============================] - 1s 43ms/step - loss: 0.1120 - accuracy: 0.9578 - val_loss: 1.0314 - val_accuracy: 0.8060\n",
            "Epoch 20/20\n",
            "16/16 [==============================] - 1s 42ms/step - loss: 0.1131 - accuracy: 0.9574 - val_loss: 1.0871 - val_accuracy: 0.7990\n"
          ],
          "name": "stdout"
        }
      ]
    },
    {
      "cell_type": "markdown",
      "metadata": {
        "id": "H4OljVCsCYXw"
      },
      "source": [
        "###손실과 정확도 시각화"
      ]
    },
    {
      "cell_type": "code",
      "metadata": {
        "id": "lLatSct_CeVG"
      },
      "source": [
        "import matplotlib.pyplot as plt"
      ],
      "execution_count": null,
      "outputs": []
    },
    {
      "cell_type": "code",
      "metadata": {
        "id": "DFwXg2wTCgKi",
        "outputId": "8cf53bbd-e32c-4afb-fb49-07076ebef9a6",
        "colab": {
          "base_uri": "https://localhost:8080/",
          "height": 295
        }
      },
      "source": [
        "# 손실함수 시각화\n",
        "loss = history.history['loss']\n",
        "val_loss = history.history['val_loss']\n",
        "\n",
        "epochs = range(1, len(loss) + 1)\n",
        "\n",
        "plt.plot(epochs, loss, 'bo', label='Training loss')\n",
        "plt.plot(epochs, val_loss, 'b', label='Validation loss')\n",
        "plt.title('Training and validation loss')\n",
        "plt.xlabel('Epochs')\n",
        "plt.ylabel('Loss')\n",
        "plt.legend()\n",
        "\n",
        "plt.show()"
      ],
      "execution_count": null,
      "outputs": [
        {
          "output_type": "display_data",
          "data": {
            "image/png": "[encoded data removed]",
            "text/plain": [
              "<Figure size 432x288 with 1 Axes>"
            ]
          },
          "metadata": {
            "tags": [],
            "needs_background": "light"
          }
        }
      ]
    },
    {
      "cell_type": "markdown",
      "metadata": {
        "id": "CfMgqDFbC-x3"
      },
      "source": [
        "훈련 데이터에서는 손실이 이상적으로 줄지만  \n",
        "실제 값에서는 손실이 어느지점부터 증가함   \n",
        "=> 오버피팅"
      ]
    },
    {
      "cell_type": "code",
      "metadata": {
        "id": "8V6Y3-r2C1k2",
        "outputId": "f90cf201-df45-4215-b39b-c3c88702f1f0",
        "colab": {
          "base_uri": "https://localhost:8080/",
          "height": 295
        }
      },
      "source": [
        "# 정확도 함수 시각화\n",
        "plt.clf()   # 그래프를 초기화합니다\n",
        "\n",
        "acc = history.history['accuracy']\n",
        "val_acc = history.history['val_accuracy']\n",
        "\n",
        "plt.plot(epochs, acc, 'bo', label='Training acc')\n",
        "plt.plot(epochs, val_acc, 'b', label='Validation acc')\n",
        "plt.title('Training and validation accuracy')\n",
        "plt.xlabel('Epochs')\n",
        "plt.ylabel('Accuracy')\n",
        "plt.legend()\n",
        "\n",
        "plt.show()\n"
      ],
      "execution_count": null,
      "outputs": [
        {
          "output_type": "display_data",
          "data": {
            "image/png": "[encoded data removed]",
            "text/plain": [
              "<Figure size 432x288 with 1 Axes>"
            ]
          },
          "metadata": {
            "tags": [],
            "needs_background": "light"
          }
        }
      ]
    },
    {
      "cell_type": "markdown",
      "metadata": {
        "id": "RPp4PpgTDmXS"
      },
      "source": [
        "정확도가 어느지점 이후로 떨어짐 => 오버피팅으로 추측"
      ]
    },
    {
      "cell_type": "markdown",
      "metadata": {
        "id": "f0ucE4d9D0Kc"
      },
      "source": [
        "문제 해결: 모델이 오버피팅 되기 전까지(9에포크 까지만 따로 훈련시킴)"
      ]
    },
    {
      "cell_type": "code",
      "metadata": {
        "id": "pePDwlYBDkFL",
        "outputId": "e5b25727-e9a2-4135-b665-c1d8e1e826ca",
        "colab": {
          "base_uri": "https://localhost:8080/",
          "height": 351
        }
      },
      "source": [
        "model = models.Sequential()\n",
        "model.add(layers.Dense(64, activation='relu', input_shape=(10000,)))\n",
        "model.add(layers.Dense(64, activation='relu'))\n",
        "model.add(layers.Dense(46, activation='softmax'))\n",
        "\n",
        "model.compile(optimizer='rmsprop',\n",
        "              loss='categorical_crossentropy',\n",
        "              metrics=['accuracy'])\n",
        "model.fit(partial_x_train,\n",
        "          partial_y_train,\n",
        "          epochs=9,\n",
        "          batch_size=512,\n",
        "          validation_data=(x_val, y_val))\n",
        "results = model.evaluate(x_test, one_hot_test_labels)"
      ],
      "execution_count": null,
      "outputs": [
        {
          "output_type": "stream",
          "text": [
            "Epoch 1/9\n",
            "16/16 [==============================] - 1s 53ms/step - loss: 2.6236 - accuracy: 0.4425 - val_loss: 1.7162 - val_accuracy: 0.6230\n",
            "Epoch 2/9\n",
            "16/16 [==============================] - 1s 42ms/step - loss: 1.4089 - accuracy: 0.7063 - val_loss: 1.2802 - val_accuracy: 0.7080\n",
            "Epoch 3/9\n",
            "16/16 [==============================] - 1s 44ms/step - loss: 1.0343 - accuracy: 0.7769 - val_loss: 1.1085 - val_accuracy: 0.7480\n",
            "Epoch 4/9\n",
            "16/16 [==============================] - 1s 43ms/step - loss: 0.8120 - accuracy: 0.8252 - val_loss: 0.9994 - val_accuracy: 0.7720\n",
            "Epoch 5/9\n",
            "16/16 [==============================] - 1s 43ms/step - loss: 0.6503 - accuracy: 0.8619 - val_loss: 0.9349 - val_accuracy: 0.7950\n",
            "Epoch 6/9\n",
            "16/16 [==============================] - 1s 43ms/step - loss: 0.5208 - accuracy: 0.8921 - val_loss: 0.9285 - val_accuracy: 0.7880\n",
            "Epoch 7/9\n",
            "16/16 [==============================] - 1s 43ms/step - loss: 0.4202 - accuracy: 0.9119 - val_loss: 0.8745 - val_accuracy: 0.8090\n",
            "Epoch 8/9\n",
            "16/16 [==============================] - 1s 43ms/step - loss: 0.3436 - accuracy: 0.9282 - val_loss: 0.8714 - val_accuracy: 0.8190\n",
            "Epoch 9/9\n",
            "16/16 [==============================] - 1s 42ms/step - loss: 0.2839 - accuracy: 0.9379 - val_loss: 0.8805 - val_accuracy: 0.8230\n",
            "71/71 [==============================] - 0s 2ms/step - loss: 0.9798 - accuracy: 0.7832\n"
          ],
          "name": "stdout"
        }
      ]
    },
    {
      "cell_type": "code",
      "metadata": {
        "id": "Gh_zewEPEF1a",
        "outputId": "b5a97b58-55d8-4b02-e666-5fc9cdecdeac",
        "colab": {
          "base_uri": "https://localhost:8080/",
          "height": 34
        }
      },
      "source": [
        "results"
      ],
      "execution_count": null,
      "outputs": [
        {
          "output_type": "execute_result",
          "data": {
            "text/plain": [
              "[0.9797959923744202, 0.7831701040267944]"
            ]
          },
          "metadata": {
            "tags": []
          },
          "execution_count": 22
        }
      ]
    },
    {
      "cell_type": "markdown",
      "metadata": {
        "id": "t4sHgH0tEQd1"
      },
      "source": [
        "정확도가 약 78% 정도 나온다."
      ]
    },
    {
      "cell_type": "markdown",
      "metadata": {
        "id": "lCsmgSvLFlXZ"
      },
      "source": [
        ""
      ]
    },
    {
      "cell_type": "code",
      "metadata": {
        "id": "y8NHR7heEPPJ"
      },
      "source": [
        ""
      ],
      "execution_count": null,
      "outputs": []
    },
    {
      "cell_type": "markdown",
      "metadata": {
        "id": "sb8bV-5WFgbg"
      },
      "source": [
        "\n",
        "# 정리\n",
        "\n",
        "\n",
        "* N개의 클래스로 데이터 포인트를 분류하려면 네트워크의 마지막 Dense 층의 크기는 N.\n",
        "* 단일 레이블, 다중 분류 문제에서는 N개의 클래스에 대한 확률 분포를 출력하기 위해 softmax 활성화 함수를 사용.\n",
        "* 이런 문제에는 항상 범주형 크로스엔트로피를 사용. 이 함수는 모델이 출력한 확률 분포와 타깃 분포 사이의 거리를 최소화 함.\n",
        "* 다중 분류에서 레이블을 다루는 두 가지 방법이 있습니다.\n",
        " - 레이블을 범주형 인코딩(또는 원-핫 인코딩)으로 인코딩하고,  categorical_crossentropy 손실 함수를 사용.\n",
        " - 레이블을 정수로 인코딩하고 sparse_categorical_crossentropy 손실 함수를 사용.\n",
        "* 많은 수의 범주를 분류할 때 중간층의 크기가 출력층보다 너무 작아 네트워크에 정보의 병목이 생기지 않도록 해야 한다."
      ]
    }
  ]
}