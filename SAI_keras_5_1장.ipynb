{
  "nbformat": 4,
  "nbformat_minor": 0,
  "metadata": {
    "colab": {
      "name": "SAI_keras_5.1장.ipynb",
      "provenance": [],
      "collapsed_sections": [],
      "toc_visible": true,
      "mount_file_id": "1IYssb8OdxjOhYhgGo03paCscR2johMry",
      "authorship_tag": "ABX9TyOOD2viCyy1tZMoKnEpPleH",
      "include_colab_link": true
    },
    "kernelspec": {
      "name": "python3",
      "display_name": "Python 3"
    },
    "accelerator": "GPU"
  },
  "cells": [
    {
      "cell_type": "markdown",
      "metadata": {
        "id": "view-in-github",
        "colab_type": "text"
      },
      "source": [
        "<a href=\"https://colab.research.google.com/github/xhaktmchl/SAI_2020-2_keras_study/blob/main/SAI_keras_5_1%EC%9E%A5.ipynb\" target=\"_parent\"><img src=\"https://colab.research.google.com/assets/colab-badge.svg\" alt=\"Open In Colab\"/></a>"
      ]
    },
    {
      "cell_type": "markdown",
      "metadata": {
        "id": "scWFsnbfrQ6k"
      },
      "source": [
        "#5장 컴퓨터 비전을 위한 딥러닝\n",
        "\n",
        "#5.1 합성곱 신경망 소개\n"
      ]
    },
    {
      "cell_type": "code",
      "metadata": {
        "id": "CE24CGKAqwPg",
        "outputId": "c3fc18cb-0be4-4ec1-c988-3db2f85239a2",
        "colab": {
          "base_uri": "https://localhost:8080/",
          "height": 35
        }
      },
      "source": [
        "import keras\n",
        "keras.__version__\n"
      ],
      "execution_count": null,
      "outputs": [
        {
          "output_type": "execute_result",
          "data": {
            "application/vnd.google.colaboratory.intrinsic+json": {
              "type": "string"
            },
            "text/plain": [
              "'2.4.3'"
            ]
          },
          "metadata": {
            "tags": []
          },
          "execution_count": 1
        }
      ]
    },
    {
      "cell_type": "code",
      "metadata": {
        "id": "oIHLbsSgst2j"
      },
      "source": [
        "from keras import layers\n",
        "from keras import models\n",
        "\n",
        "model = models.Sequential()\n",
        "model.add(layers.Conv2D(32, (3, 3), activation='relu', input_shape=(28, 28, 1)))\n",
        "model.add(layers.MaxPooling2D((2, 2)))\n",
        "model.add(layers.Conv2D(64, (3, 3), activation='relu'))\n",
        "model.add(layers.MaxPooling2D((2, 2)))\n",
        "model.add(layers.Conv2D(64, (3, 3), activation='relu'))"
      ],
      "execution_count": null,
      "outputs": []
    },
    {
      "cell_type": "markdown",
      "metadata": {
        "id": "WHCK0vP9s1dD"
      },
      "source": [
        "이코드에서 주목할 점  \n",
        "* Conv2D, MaxPooling2D 층 사용\n",
        "* mnist 이미지 포맷이(28,28,1) 크기로 input_shape() 사용"
      ]
    },
    {
      "cell_type": "markdown",
      "metadata": {
        "id": "Dp8NKiIAtuid"
      },
      "source": [
        "모델의 모양 살펴보기"
      ]
    },
    {
      "cell_type": "code",
      "metadata": {
        "id": "2VIYg6F3tnnQ",
        "outputId": "43961beb-3f2f-4c71-f002-60f856e49490",
        "colab": {
          "base_uri": "https://localhost:8080/"
        }
      },
      "source": [
        "model.summary()"
      ],
      "execution_count": null,
      "outputs": [
        {
          "output_type": "stream",
          "text": [
            "Model: \"sequential\"\n",
            "_________________________________________________________________\n",
            "Layer (type)                 Output Shape              Param #   \n",
            "=================================================================\n",
            "conv2d (Conv2D)              (None, 26, 26, 32)        320       \n",
            "_________________________________________________________________\n",
            "max_pooling2d (MaxPooling2D) (None, 13, 13, 32)        0         \n",
            "_________________________________________________________________\n",
            "conv2d_1 (Conv2D)            (None, 11, 11, 64)        18496     \n",
            "_________________________________________________________________\n",
            "max_pooling2d_1 (MaxPooling2 (None, 5, 5, 64)          0         \n",
            "_________________________________________________________________\n",
            "conv2d_2 (Conv2D)            (None, 3, 3, 64)          36928     \n",
            "=================================================================\n",
            "Total params: 55,744\n",
            "Trainable params: 55,744\n",
            "Non-trainable params: 0\n",
            "_________________________________________________________________\n"
          ],
          "name": "stdout"
        }
      ]
    },
    {
      "cell_type": "markdown",
      "metadata": {
        "id": "DL7bIGc7rQQu"
      },
      "source": [
        "Conv2D와 MaxPooling2D 층의 출력은 (height, width, channels) 크기의 3D 텐서인데  \n",
        "마지막 층의 ((3, 3, 64) 크기인) 출력 텐서를 Dense층에 넣어야 한다  \n",
        "\n"
      ]
    },
    {
      "cell_type": "markdown",
      "metadata": {
        "id": "d9T9SsUnu1Tt"
      },
      "source": [
        "* 요약 : 3차원 텐서 -> 1차원 텐서로 변환해야함  \n",
        "Flatten() 층으로 변환"
      ]
    },
    {
      "cell_type": "code",
      "metadata": {
        "id": "P1L5tFYFu-XE"
      },
      "source": [
        "model.add(layers.Flatten())\n",
        "model.add(layers.Dense(64, activation='relu'))\n",
        "model.add(layers.Dense(10, activation='softmax'))"
      ],
      "execution_count": null,
      "outputs": []
    },
    {
      "cell_type": "code",
      "metadata": {
        "id": "HvkhlVwVu-wu",
        "outputId": "07526a3e-079e-48c8-ad40-c52a23862453",
        "colab": {
          "base_uri": "https://localhost:8080/"
        }
      },
      "source": [
        "model.summary()"
      ],
      "execution_count": null,
      "outputs": [
        {
          "output_type": "stream",
          "text": [
            "Model: \"sequential\"\n",
            "_________________________________________________________________\n",
            "Layer (type)                 Output Shape              Param #   \n",
            "=================================================================\n",
            "conv2d (Conv2D)              (None, 26, 26, 32)        320       \n",
            "_________________________________________________________________\n",
            "max_pooling2d (MaxPooling2D) (None, 13, 13, 32)        0         \n",
            "_________________________________________________________________\n",
            "conv2d_1 (Conv2D)            (None, 11, 11, 64)        18496     \n",
            "_________________________________________________________________\n",
            "max_pooling2d_1 (MaxPooling2 (None, 5, 5, 64)          0         \n",
            "_________________________________________________________________\n",
            "conv2d_2 (Conv2D)            (None, 3, 3, 64)          36928     \n",
            "_________________________________________________________________\n",
            "flatten (Flatten)            (None, 576)               0         \n",
            "_________________________________________________________________\n",
            "dense (Dense)                (None, 64)                36928     \n",
            "_________________________________________________________________\n",
            "dense_1 (Dense)              (None, 10)                650       \n",
            "=================================================================\n",
            "Total params: 93,322\n",
            "Trainable params: 93,322\n",
            "Non-trainable params: 0\n",
            "_________________________________________________________________\n"
          ],
          "name": "stdout"
        }
      ]
    },
    {
      "cell_type": "markdown",
      "metadata": {
        "id": "6tqjUARsvZSu"
      },
      "source": [
        "주목할 점: (3, 3, 64)의 3차원 텐서가 (576) 1차원 텐서로 변환됨  \n",
        "마지막 10개의 클래스로 분류"
      ]
    },
    {
      "cell_type": "markdown",
      "metadata": {
        "id": "GcidrCTFvzQF"
      },
      "source": [
        "mnist 예제로 컨브넷 훈련"
      ]
    },
    {
      "cell_type": "code",
      "metadata": {
        "id": "oIFcwUOsvX9N",
        "outputId": "13a0de21-eaab-494b-ac27-8ccd44aa53c1",
        "colab": {
          "base_uri": "https://localhost:8080/"
        }
      },
      "source": [
        "from keras.datasets import mnist\n",
        "from keras.utils import to_categorical\n",
        "\n",
        "(train_images, train_labels), (test_images, test_labels) = mnist.load_data()\n",
        "\n",
        "train_images = train_images.reshape((60000, 28, 28, 1))\n",
        "train_images = train_images.astype('float32') / 255\n",
        "\n",
        "test_images = test_images.reshape((10000, 28, 28, 1))\n",
        "test_images = test_images.astype('float32') / 255\n",
        "\n",
        "train_labels = to_categorical(train_labels)\n",
        "test_labels = to_categorical(test_labels)"
      ],
      "execution_count": null,
      "outputs": [
        {
          "output_type": "stream",
          "text": [
            "Downloading data from https://storage.googleapis.com/tensorflow/tf-keras-datasets/mnist.npz\n",
            "11493376/11490434 [==============================] - 0s 0us/step\n"
          ],
          "name": "stdout"
        }
      ]
    },
    {
      "cell_type": "code",
      "metadata": {
        "id": "Tdm1HDBMv5Qv",
        "outputId": "5051303f-bbf0-43e9-a71f-593ae1d98fd5",
        "colab": {
          "base_uri": "https://localhost:8080/"
        }
      },
      "source": [
        "model.compile(optimizer='rmsprop',\n",
        "              loss='categorical_crossentropy',\n",
        "              metrics=['accuracy'])\n",
        "model.fit(train_images, train_labels, epochs=5, batch_size=64)"
      ],
      "execution_count": null,
      "outputs": [
        {
          "output_type": "stream",
          "text": [
            "Epoch 1/5\n",
            "938/938 [==============================] - 7s 8ms/step - loss: 0.1735 - accuracy: 0.9457\n",
            "Epoch 2/5\n",
            "938/938 [==============================] - 6s 7ms/step - loss: 0.0482 - accuracy: 0.9854\n",
            "Epoch 3/5\n",
            "938/938 [==============================] - 7s 7ms/step - loss: 0.0327 - accuracy: 0.9901\n",
            "Epoch 4/5\n",
            "938/938 [==============================] - 7s 7ms/step - loss: 0.0244 - accuracy: 0.9922\n",
            "Epoch 5/5\n",
            "938/938 [==============================] - 7s 7ms/step - loss: 0.0187 - accuracy: 0.9943\n"
          ],
          "name": "stdout"
        },
        {
          "output_type": "execute_result",
          "data": {
            "text/plain": [
              "<tensorflow.python.keras.callbacks.History at 0x7f2820169f28>"
            ]
          },
          "metadata": {
            "tags": []
          },
          "execution_count": 7
        }
      ]
    },
    {
      "cell_type": "markdown",
      "metadata": {
        "id": "B-5yYGcOwvbB"
      },
      "source": [
        "테스트셋으로 모델 평가"
      ]
    },
    {
      "cell_type": "code",
      "metadata": {
        "id": "jCxYcLznwNlK",
        "outputId": "6a759588-91f8-479b-c7ed-0fd40bbded68",
        "colab": {
          "base_uri": "https://localhost:8080/"
        }
      },
      "source": [
        "\n",
        "test_loss, test_acc = model.evaluate(test_images, test_labels)"
      ],
      "execution_count": null,
      "outputs": [
        {
          "output_type": "stream",
          "text": [
            "313/313 [==============================] - 1s 4ms/step - loss: 0.0296 - accuracy: 0.9907\n"
          ],
          "name": "stdout"
        }
      ]
    },
    {
      "cell_type": "code",
      "metadata": {
        "id": "lyuFGomNwzV3",
        "outputId": "15894557-5675-467c-a978-985b33e7bab2",
        "colab": {
          "base_uri": "https://localhost:8080/"
        }
      },
      "source": [
        "test_acc"
      ],
      "execution_count": null,
      "outputs": [
        {
          "output_type": "execute_result",
          "data": {
            "text/plain": [
              "0.9907000064849854"
            ]
          },
          "metadata": {
            "tags": []
          },
          "execution_count": 9
        }
      ]
    },
    {
      "cell_type": "markdown",
      "metadata": {
        "id": "2SVQenucw4_H"
      },
      "source": [
        "* 정확도 결과: 완전연결 모델(97%) < 컨브넷 모델(99%) "
      ]
    },
    {
      "cell_type": "markdown",
      "metadata": {
        "id": "VeFPZQGIvWvw"
      },
      "source": [
        "### 5.1.1 합성곱 연산\n",
        "\n",
        "\n",
        "* Dense층은 전역패턴 학습 != 합성곱(지역패턴 학습)\n",
        "* 합성곱 특징 :  \n",
        " - 평행이동 불변성   \n",
        " : 학습된 패턴은 다른 지역에서도 인식 가능\n",
        " - 패턴의 공간적 계층구조 학습  \n",
        " : 앞의 합성곱 층의 패턴으로 더 큰 패턴을 학습 \n",
        "\n",
        "* 단어 정의\n",
        " * 특성 맵: 깊이 축에 있는 각 차원은 하나의 특성 ==> (필터) \n",
        " * 응답 맵 : 입력의 위치에서 각 패턴(특성맵)에 대한 2D 맵\n",
        " \n",
        "* 합성곱 과정  \n",
        ": 특성맵 입력 -> (3* 3또는5 * 5) 정도의 윈도우만큼의 크기만큼 검사  ->출력깊이 크기의 1차원 벡터로 변환 -> 1차원 벡터들 모두 합하면\n",
        "(높이,너비,출력 깊이) 크기의 3차원 맵으로 재구성 \n",
        "\n",
        "\n",
        "* 경계문제와 패딩  \n",
        " 1) 경계문제  \n",
        " : 윈도우의 크기에 따라 입력 특성맵과 응답맵의 타일의 개수가 차이가 남  \n",
        " 2) 패딩  \n",
        " : 타일의 개수가 동일하게 맞추도록 입력특성맵에 행,열 추가  \n",
        " 예) padding 매개변수로 사용 (valid : 패딩사용 안함, same : 입력특성맵과 출력맵의 크기를 맞춘다)\n",
        "\n",
        "* 스트라이드 합성곱\n",
        ": 윈도우가 지나가는 간격 => 타일의 수가 줄어듬(다운 샘플링)\n",
        "\n"
      ]
    },
    {
      "cell_type": "markdown",
      "metadata": {
        "id": "TCqQWxyrAx1q"
      },
      "source": [
        "### 5.1.2최대 풀링 연산\n",
        "\n",
        "* 최대풀링 연산(Maxpooling2D) 이란?  \n",
        ": 강제적으로 특성맵을 다운 샘플링\n",
        "\n",
        "* 다운 샘플링의 이유?\n",
        " - 처리할 특성맵의 가중치 개수 줄이기 -> 과대적합 방지\n",
        " - 원본 입력 면에서 윈도우가 적용되는 범위가  점점 커짐 -> 공간적 계층 학습 가능"
      ]
    },
    {
      "cell_type": "code",
      "metadata": {
        "id": "ENZFN7pjw3eK"
      },
      "source": [
        ""
      ],
      "execution_count": null,
      "outputs": []
    }
  ]
}