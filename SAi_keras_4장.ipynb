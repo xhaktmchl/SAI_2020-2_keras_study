{
  "nbformat": 4,
  "nbformat_minor": 0,
  "metadata": {
    "colab": {
      "name": "SAi_keras_4장.ipynb",
      "provenance": [],
      "collapsed_sections": [],
      "toc_visible": true,
      "mount_file_id": "1U2BFmb_oAI3IplzvkcQl4utvr_K5O-fV",
      "authorship_tag": "ABX9TyMMIQRhQKkrhGVc2MLtx1Lk",
      "include_colab_link": true
    },
    "kernelspec": {
      "name": "python3",
      "display_name": "Python 3"
    },
    "accelerator": "GPU"
  },
  "cells": [
    {
      "cell_type": "markdown",
      "metadata": {
        "id": "view-in-github",
        "colab_type": "text"
      },
      "source": [
        "<a href=\"https://colab.research.google.com/github/xhaktmchl/SAI_2020-2_keras_study/blob/main/SAi_keras_4%EC%9E%A5.ipynb\" target=\"_parent\"><img src=\"https://colab.research.google.com/assets/colab-badge.svg\" alt=\"Open In Colab\"/></a>"
      ]
    },
    {
      "cell_type": "markdown",
      "metadata": {
        "id": "Unq5NRPugve3"
      },
      "source": [
        "# 4.1 머신러닝의 분류\n",
        "\n",
        "###4.1.1 지도 학습(supervised learning)  \n",
        ": 이미 레이블링된 데이가 주어지면 알고있는 타겟에 입력 데이터를 매핑하는법을 \n",
        "학습함.  \n",
        "  요약= 주어진 데이터와 답을 이용해서 새로운 문제의 답을 예측할 수 있도록하는 학습 방법   \n",
        "  (예  음성인식, 이미지 분류,언어번역 등)\n",
        "\n",
        "### 4.1.2 비지도 학습\n",
        ": 타깃이 없고 주어진 데이터의 특징을 찾음.  \n",
        "(예 : 차원축소, 군집) \n",
        "\n",
        "\n",
        "### 4.1.3 자기 지도 학습\n",
        ": 학습과정에서 사람이 개입하지 않고 경험적인 알고리즘에서 레이블링한 데이터로 학습한다.  \n",
        "(예: 오토 인코더)\n",
        "\n",
        "### 4.1.4. 강화학습\n",
        ": 환경에 대해 보상이 최대화 되는 방향으로 학습.  \n",
        "(예 : 벽돌깨기 게임)\n",
        "\n"
      ]
    },
    {
      "cell_type": "markdown",
      "metadata": {
        "id": "usPHIoq3m1oB"
      },
      "source": [
        "#4.2 머신러닝 모델 평가\n",
        "* 데이터를 훈련,검증,테스트 세트로 나눈다.\n",
        "* 훈련세트에서 학습하고 검증데이터에서 평가한다음 테스트에서 딱한번 테스트 한다.   \n",
        "이유 -> 검증세트가 없으면 테스트 세트에 과적합돼 새로운 데이터에서 성능 떨어짐\n",
        "\n",
        "###평가방법\n",
        "1) 단순 홀드아웃 검증  \n",
        ": 훈련세트로 훈련시키고 -> 검증세트로 튜닝 -> 훈련,검증세트 합해서 다시 훈련뒤 튜닝 -> 테스트 세트 모델 평가\n",
        "\n",
        "2) K-겹 교차 검증  \n",
        ": 데이터 셋을 k개로 나눈 뒤 ->각 i번째 데이터 셋을 제외하고 훈련한 다음-> i번째 검증한다-> 총 k개의 검증점수의 평균점수가 결과\n",
        "\n",
        "3) 셔플링을 사용한 반복 k-겹 교차 검증\n",
        ": 매번 셔플링을 한뒤-> k개의 데이터 분할-> k-겹 교차검증 N번 -> N개의 k-겹 \n",
        "교차검증 점수들의 평균이 결과\n",
        "\n",
        "\n",
        "### 기억해야 할 것\n",
        "1) 대표성이 있는 데이터  \n",
        ": 숫자분류 같은 경우는 무작위로 섞어야 함\n",
        "\n",
        "2) 시간의 방향  \n",
        ": 과거로부터 미래예측 데이터는 섞으면 안됨\n",
        "\n",
        "3) 데이터 중복  \n",
        ": 훈련세트와 검증세트의 데이터 중복이 있으면 안됨.\n"
      ]
    },
    {
      "cell_type": "markdown",
      "metadata": {
        "id": "4CW4g6ofuGfU"
      },
      "source": [
        "#4.3 데이터 전처리, 특성공학, 특성학습\n",
        "\n",
        "###1) 전처리\n",
        "* 벡터화  \n",
        ": 모든 입력과 타깃을 텐서로 바꾸는 것\n",
        "* 정규화  \n",
        ": 데이터 값이 크거나 균일하지 않으면 성능이 제대로 안나옴=> 0-1 사이의 값으로\n",
        "정규화(필요시 평균 0 표준편차 1  \n",
        "예: x-=x.mean(axis=0), x/=x.std(axis=0)\n",
        "* 누락값 다루기  \n",
        ": 누락된 값은 0으로 채우거나 평균 등등 여러 방법으로 채우거나 데이터를 없애준다.\n",
        "\n",
        "\n",
        "###2) 특성 공학\n",
        ": 데이터의 특성을 알아내고 표현 하는것 \n",
        "* 장점: 적은데이터가 있을땐 신경망 보단 특성공학 사용  \n",
        "(예 : 시간을 나타내는 시계)"
      ]
    },
    {
      "cell_type": "markdown",
      "metadata": {
        "id": "Uj3MZG0C5g4-"
      },
      "source": [
        "#4.4 과대적합 과소적합\n",
        "\n",
        "  \n",
        "* 최적화  \n",
        ": 가능한 훈련 데이터에서 최고의 성능을 얻으려고 모델을 조정하는 과정\n",
        "* 일반화  \n",
        ": 새로운 데이터에서 얼마나 잘 수행되는지를 의미\n",
        "* 과소적합  \n",
        ": 네트워크가 훈련 데이터에 있는 관련 특성을 모두 학습하지 못한 상태\n",
        "* 과대적합  \n",
        ":  훈련데이터에 너무 특화되게 학습 된 상태\n",
        "\n",
        "* 과대적합 해결( => 규제)\n",
        " - 더 많은 훈련 데이터\n",
        " - 모델의 학습 개수 제한  \n"
      ]
    },
    {
      "cell_type": "code",
      "metadata": {
        "id": "2GuOXk2af62x",
        "outputId": "4cfb9a29-2d86-41f1-c722-9caa034127c9",
        "colab": {
          "base_uri": "https://localhost:8080/",
          "height": 35
        }
      },
      "source": [
        "import keras\n",
        "keras.__version__"
      ],
      "execution_count": null,
      "outputs": [
        {
          "output_type": "execute_result",
          "data": {
            "application/vnd.google.colaboratory.intrinsic+json": {
              "type": "string"
            },
            "text/plain": [
              "'2.4.3'"
            ]
          },
          "metadata": {
            "tags": []
          },
          "execution_count": 1
        }
      ]
    },
    {
      "cell_type": "markdown",
      "metadata": {
        "id": "UYdiK29k-CjZ"
      },
      "source": [
        "###4.4.1네트워크 크기 축소\n",
        ": 모델의 기억 용량이 부족해서는 안 됨. 너무 많은 용량과 충분하지 않은 용량 사이의 절충점을 찾아야 한다.\n",
        "\n"
      ]
    },
    {
      "cell_type": "markdown",
      "metadata": {
        "id": "GgWufp7i9Ku8"
      },
      "source": [
        "3장의 영화리뷰 데이터를 불러온다"
      ]
    },
    {
      "cell_type": "code",
      "metadata": {
        "id": "IvDmfD1o9C0N"
      },
      "source": [
        "from keras.datasets import imdb\n",
        "import numpy as np\n",
        "\n",
        "(train_data, train_labels), (test_data, test_labels) = imdb.load_data(num_words=10000)\n",
        "\n",
        "def vectorize_sequences(sequences, dimension=10000):\n",
        "    # 크기가 (len(sequences), dimension))이고 모든 원소가 0인 행렬을 만듭니다\n",
        "    results = np.zeros((len(sequences), dimension))\n",
        "    for i, sequence in enumerate(sequences):\n",
        "        results[i, sequence] = 1.  # results[i]에서 특정 인덱스의 위치를 1로 만듭니다\n",
        "    return results\n",
        "\n",
        "# 훈련 데이터를 벡터로 변환합니다\n",
        "x_train = vectorize_sequences(train_data)\n",
        "# 테스트 데이터를 벡터로 변환합니다\n",
        "x_test = vectorize_sequences(test_data)\n",
        "# 레이블을 벡터로 변환합니다\n",
        "y_train = np.asarray(train_labels).astype('float32')\n",
        "y_test = np.asarray(test_labels).astype('float32')"
      ],
      "execution_count": null,
      "outputs": []
    },
    {
      "cell_type": "markdown",
      "metadata": {
        "id": "IRGq3ku2-fJp"
      },
      "source": [
        "영화리뷰 예측 모델을 불러온다."
      ]
    },
    {
      "cell_type": "code",
      "metadata": {
        "id": "mXkBVoB99iRd"
      },
      "source": [
        "from keras import models\n",
        "from keras import layers\n",
        "\n",
        "original_model = models.Sequential()\n",
        "original_model.add(layers.Dense(16, activation='relu', input_shape=(10000,)))\n",
        "original_model.add(layers.Dense(16, activation='relu'))\n",
        "original_model.add(layers.Dense(1, activation='sigmoid'))\n",
        "\n",
        "original_model.compile(optimizer='rmsprop',\n",
        "                       loss='binary_crossentropy',\n",
        "                       metrics=['acc'])"
      ],
      "execution_count": null,
      "outputs": []
    },
    {
      "cell_type": "markdown",
      "metadata": {
        "id": "VTtLjZKa_o38"
      },
      "source": [
        "모델의 크기를 줄인다"
      ]
    },
    {
      "cell_type": "code",
      "metadata": {
        "id": "zZ0Km0hY-n94"
      },
      "source": [
        "smaller_model = models.Sequential()\n",
        "smaller_model.add(layers.Dense(6, activation='relu', input_shape=(10000,)))\n",
        "smaller_model.add(layers.Dense(6, activation='relu'))\n",
        "smaller_model.add(layers.Dense(1, activation='sigmoid'))\n",
        "\n",
        "smaller_model.compile(optimizer='rmsprop',\n",
        "                      loss='binary_crossentropy',\n",
        "                      metrics=['acc'])"
      ],
      "execution_count": null,
      "outputs": []
    },
    {
      "cell_type": "markdown",
      "metadata": {
        "id": "-U-6g3ZZALnW"
      },
      "source": [
        "원래 모델과 축소 모델의 검증 성능 비교"
      ]
    },
    {
      "cell_type": "code",
      "metadata": {
        "id": "eBvcLkbcAE81",
        "outputId": "e8a71478-9c44-4b49-fc87-dda19dce7564",
        "colab": {
          "base_uri": "https://localhost:8080/"
        }
      },
      "source": [
        "# 원래 모델\n",
        "original_hist = original_model.fit(x_train, y_train,\n",
        "                                   epochs=20,\n",
        "                                   batch_size=512,\n",
        "                                   validation_data=(x_test, y_test))"
      ],
      "execution_count": null,
      "outputs": [
        {
          "output_type": "stream",
          "text": [
            "Epoch 1/20\n",
            "49/49 [==============================] - 2s 31ms/step - loss: 0.4595 - acc: 0.8224 - val_loss: 0.3498 - val_acc: 0.8729\n",
            "Epoch 2/20\n",
            "49/49 [==============================] - 1s 20ms/step - loss: 0.2678 - acc: 0.9074 - val_loss: 0.3026 - val_acc: 0.8782\n",
            "Epoch 3/20\n",
            "49/49 [==============================] - 1s 21ms/step - loss: 0.2039 - acc: 0.9278 - val_loss: 0.2792 - val_acc: 0.8894\n",
            "Epoch 4/20\n",
            "49/49 [==============================] - 1s 20ms/step - loss: 0.1692 - acc: 0.9387 - val_loss: 0.2908 - val_acc: 0.8858\n",
            "Epoch 5/20\n",
            "49/49 [==============================] - 1s 21ms/step - loss: 0.1461 - acc: 0.9493 - val_loss: 0.3527 - val_acc: 0.8666\n",
            "Epoch 6/20\n",
            "49/49 [==============================] - 1s 20ms/step - loss: 0.1287 - acc: 0.9553 - val_loss: 0.3303 - val_acc: 0.8767\n",
            "Epoch 7/20\n",
            "49/49 [==============================] - 1s 21ms/step - loss: 0.1112 - acc: 0.9626 - val_loss: 0.3804 - val_acc: 0.8662\n",
            "Epoch 8/20\n",
            "49/49 [==============================] - 1s 20ms/step - loss: 0.0986 - acc: 0.9667 - val_loss: 0.3802 - val_acc: 0.8696\n",
            "Epoch 9/20\n",
            "49/49 [==============================] - 1s 21ms/step - loss: 0.0891 - acc: 0.9705 - val_loss: 0.4045 - val_acc: 0.8674\n",
            "Epoch 10/20\n",
            "49/49 [==============================] - 1s 20ms/step - loss: 0.0765 - acc: 0.9749 - val_loss: 0.4331 - val_acc: 0.8643\n",
            "Epoch 11/20\n",
            "49/49 [==============================] - 1s 21ms/step - loss: 0.0664 - acc: 0.9795 - val_loss: 0.4656 - val_acc: 0.8618\n",
            "Epoch 12/20\n",
            "49/49 [==============================] - 1s 20ms/step - loss: 0.0572 - acc: 0.9827 - val_loss: 0.5204 - val_acc: 0.8562\n",
            "Epoch 13/20\n",
            "49/49 [==============================] - 1s 21ms/step - loss: 0.0489 - acc: 0.9855 - val_loss: 0.5430 - val_acc: 0.8563\n",
            "Epoch 14/20\n",
            "49/49 [==============================] - 1s 20ms/step - loss: 0.0431 - acc: 0.9868 - val_loss: 0.5572 - val_acc: 0.8572\n",
            "Epoch 15/20\n",
            "49/49 [==============================] - 1s 21ms/step - loss: 0.0351 - acc: 0.9902 - val_loss: 0.6084 - val_acc: 0.8546\n",
            "Epoch 16/20\n",
            "49/49 [==============================] - 1s 21ms/step - loss: 0.0297 - acc: 0.9919 - val_loss: 0.6370 - val_acc: 0.8529\n",
            "Epoch 17/20\n",
            "49/49 [==============================] - 1s 20ms/step - loss: 0.0243 - acc: 0.9942 - val_loss: 0.6865 - val_acc: 0.8516\n",
            "Epoch 18/20\n",
            "49/49 [==============================] - 1s 20ms/step - loss: 0.0220 - acc: 0.9944 - val_loss: 0.7218 - val_acc: 0.8501\n",
            "Epoch 19/20\n",
            "49/49 [==============================] - 1s 21ms/step - loss: 0.0165 - acc: 0.9957 - val_loss: 0.7826 - val_acc: 0.8489\n",
            "Epoch 20/20\n",
            "49/49 [==============================] - 1s 21ms/step - loss: 0.0127 - acc: 0.9970 - val_loss: 0.8050 - val_acc: 0.8490\n"
          ],
          "name": "stdout"
        }
      ]
    },
    {
      "cell_type": "code",
      "metadata": {
        "id": "Ivzb4FS6AxFY",
        "outputId": "cda7a19d-70ae-43da-bf13-5629ea336d45",
        "colab": {
          "base_uri": "https://localhost:8080/"
        }
      },
      "source": [
        "# 춗모델의 검증 손실\n",
        "smaller_model_hist = smaller_model.fit(x_train, y_train,\n",
        "                                       epochs=20,\n",
        "                                       batch_size=512,\n",
        "                                       validation_data=(x_test, y_test))"
      ],
      "execution_count": null,
      "outputs": [
        {
          "output_type": "stream",
          "text": [
            "Epoch 1/20\n",
            "49/49 [==============================] - 1s 28ms/step - loss: 0.5029 - acc: 0.8094 - val_loss: 0.3932 - val_acc: 0.8718\n",
            "Epoch 2/20\n",
            "49/49 [==============================] - 1s 21ms/step - loss: 0.3075 - acc: 0.9025 - val_loss: 0.3105 - val_acc: 0.8858\n",
            "Epoch 3/20\n",
            "49/49 [==============================] - 1s 21ms/step - loss: 0.2352 - acc: 0.9212 - val_loss: 0.2953 - val_acc: 0.8820\n",
            "Epoch 4/20\n",
            "49/49 [==============================] - 1s 21ms/step - loss: 0.1967 - acc: 0.9331 - val_loss: 0.2789 - val_acc: 0.8908\n",
            "Epoch 5/20\n",
            "49/49 [==============================] - 1s 21ms/step - loss: 0.1701 - acc: 0.9426 - val_loss: 0.2921 - val_acc: 0.8828\n",
            "Epoch 6/20\n",
            "49/49 [==============================] - 1s 21ms/step - loss: 0.1505 - acc: 0.9508 - val_loss: 0.3150 - val_acc: 0.8747\n",
            "Epoch 7/20\n",
            "49/49 [==============================] - 1s 21ms/step - loss: 0.1348 - acc: 0.9559 - val_loss: 0.3047 - val_acc: 0.8799\n",
            "Epoch 8/20\n",
            "49/49 [==============================] - 1s 21ms/step - loss: 0.1204 - acc: 0.9618 - val_loss: 0.3251 - val_acc: 0.8772\n",
            "Epoch 9/20\n",
            "49/49 [==============================] - 1s 21ms/step - loss: 0.1099 - acc: 0.9653 - val_loss: 0.3393 - val_acc: 0.8725\n",
            "Epoch 10/20\n",
            "49/49 [==============================] - 1s 20ms/step - loss: 0.0982 - acc: 0.9699 - val_loss: 0.3614 - val_acc: 0.8690\n",
            "Epoch 11/20\n",
            "49/49 [==============================] - 1s 20ms/step - loss: 0.0892 - acc: 0.9728 - val_loss: 0.3787 - val_acc: 0.8670\n",
            "Epoch 12/20\n",
            "49/49 [==============================] - 1s 21ms/step - loss: 0.0809 - acc: 0.9764 - val_loss: 0.3884 - val_acc: 0.8693\n",
            "Epoch 13/20\n",
            "49/49 [==============================] - 1s 20ms/step - loss: 0.0731 - acc: 0.9792 - val_loss: 0.4243 - val_acc: 0.8620\n",
            "Epoch 14/20\n",
            "49/49 [==============================] - 1s 20ms/step - loss: 0.0651 - acc: 0.9825 - val_loss: 0.4291 - val_acc: 0.8631\n",
            "Epoch 15/20\n",
            "49/49 [==============================] - 1s 20ms/step - loss: 0.0598 - acc: 0.9835 - val_loss: 0.4497 - val_acc: 0.8618\n",
            "Epoch 16/20\n",
            "49/49 [==============================] - 1s 20ms/step - loss: 0.0532 - acc: 0.9864 - val_loss: 0.4790 - val_acc: 0.8585\n",
            "Epoch 17/20\n",
            "49/49 [==============================] - 1s 20ms/step - loss: 0.0468 - acc: 0.9892 - val_loss: 0.5011 - val_acc: 0.8571\n",
            "Epoch 18/20\n",
            "49/49 [==============================] - 1s 21ms/step - loss: 0.0422 - acc: 0.9906 - val_loss: 0.5188 - val_acc: 0.8586\n",
            "Epoch 19/20\n",
            "49/49 [==============================] - 1s 21ms/step - loss: 0.0377 - acc: 0.9914 - val_loss: 0.5630 - val_acc: 0.8541\n",
            "Epoch 20/20\n",
            "49/49 [==============================] - 1s 21ms/step - loss: 0.0335 - acc: 0.9926 - val_loss: 0.5758 - val_acc: 0.8558\n"
          ],
          "name": "stdout"
        }
      ]
    },
    {
      "cell_type": "markdown",
      "metadata": {
        "id": "Z7NyghQbBnYn"
      },
      "source": [
        "이제 그래프로 시각화"
      ]
    },
    {
      "cell_type": "code",
      "metadata": {
        "id": "xzADwJfgBQfD"
      },
      "source": [
        "epochs = range(1, 21)\n",
        "original_val_loss = original_hist.history['val_loss']\n",
        "smaller_model_val_loss = smaller_model_hist.history['val_loss']"
      ],
      "execution_count": null,
      "outputs": []
    },
    {
      "cell_type": "code",
      "metadata": {
        "id": "k1dfDhyKBsY8"
      },
      "source": [
        "import matplotlib.pyplot as plt"
      ],
      "execution_count": null,
      "outputs": []
    },
    {
      "cell_type": "code",
      "metadata": {
        "id": "xdvhLKMMBzHH",
        "outputId": "ce26a44b-cc30-4ebf-ea1f-edc8e02cb823",
        "colab": {
          "base_uri": "https://localhost:8080/",
          "height": 279
        }
      },
      "source": [
        "# ‘b+’는 파란색 덧셈 기호을 의미합니다\n",
        "plt.plot(epochs, original_val_loss, 'b+', label='Original model')\n",
        "# ‘bo’는 파란색 점을 의미합니다\n",
        "plt.plot(epochs, smaller_model_val_loss, 'bo', label='Smaller model')\n",
        "plt.xlabel('Epochs')\n",
        "plt.ylabel('Validation loss')\n",
        "plt.legend()\n",
        "\n",
        "plt.show()"
      ],
      "execution_count": null,
      "outputs": [
        {
          "output_type": "display_data",
          "data": {
            "image/png": "[encoded data removed]",
            "text/plain": [
              "<Figure size 432x288 with 1 Axes>"
            ]
          },
          "metadata": {
            "tags": [],
            "needs_background": "light"
          }
        }
      ]
    },
    {
      "cell_type": "markdown",
      "metadata": {
        "id": "c3li8XELCKkd"
      },
      "source": [
        "결과 : 축소된 모델이 과대적합이 적게 일어난다."
      ]
    },
    {
      "cell_type": "markdown",
      "metadata": {
        "id": "GdIxBdIoCjdV"
      },
      "source": [
        "이번엔 크기가 큰 모델 비교"
      ]
    },
    {
      "cell_type": "code",
      "metadata": {
        "id": "J1tSWU5-CIv8"
      },
      "source": [
        "bigger_model = models.Sequential()\n",
        "bigger_model.add(layers.Dense(1024, activation='relu', input_shape=(10000,)))\n",
        "bigger_model.add(layers.Dense(1024, activation='relu'))\n",
        "bigger_model.add(layers.Dense(1, activation='sigmoid'))\n",
        "\n",
        "bigger_model.compile(optimizer='rmsprop',\n",
        "                     loss='binary_crossentropy',\n",
        "                     metrics=['acc'])"
      ],
      "execution_count": null,
      "outputs": []
    },
    {
      "cell_type": "code",
      "metadata": {
        "id": "nEVr_cZ2Db1P",
        "outputId": "969142e6-9e35-4543-f514-0f9294245174",
        "colab": {
          "base_uri": "https://localhost:8080/"
        }
      },
      "source": [
        "bigger_model_hist = bigger_model.fit(x_train, y_train,\n",
        "                                     epochs=20,\n",
        "                                     batch_size=512,\n",
        "                                     validation_data=(x_test, y_test))"
      ],
      "execution_count": null,
      "outputs": [
        {
          "output_type": "stream",
          "text": [
            "Epoch 1/20\n",
            "49/49 [==============================] - 2s 40ms/step - loss: 0.5422 - acc: 0.7878 - val_loss: 0.3786 - val_acc: 0.8336\n",
            "Epoch 2/20\n",
            "49/49 [==============================] - 1s 28ms/step - loss: 0.2247 - acc: 0.9121 - val_loss: 0.2756 - val_acc: 0.8912\n",
            "Epoch 3/20\n",
            "49/49 [==============================] - 1s 28ms/step - loss: 0.1172 - acc: 0.9574 - val_loss: 0.4036 - val_acc: 0.8699\n",
            "Epoch 4/20\n",
            "49/49 [==============================] - 1s 28ms/step - loss: 0.0707 - acc: 0.9824 - val_loss: 0.4454 - val_acc: 0.8858\n",
            "Epoch 5/20\n",
            "49/49 [==============================] - 1s 28ms/step - loss: 0.1329 - acc: 0.9871 - val_loss: 0.4690 - val_acc: 0.8817\n",
            "Epoch 6/20\n",
            "49/49 [==============================] - 1s 28ms/step - loss: 9.4853e-04 - acc: 0.9999 - val_loss: 0.6204 - val_acc: 0.8823\n",
            "Epoch 7/20\n",
            "49/49 [==============================] - 1s 28ms/step - loss: 2.7687e-04 - acc: 1.0000 - val_loss: 0.8281 - val_acc: 0.8823\n",
            "Epoch 8/20\n",
            "49/49 [==============================] - 1s 29ms/step - loss: 5.4964e-06 - acc: 1.0000 - val_loss: 0.9469 - val_acc: 0.8825\n",
            "Epoch 9/20\n",
            "49/49 [==============================] - 1s 28ms/step - loss: 5.6086e-07 - acc: 1.0000 - val_loss: 1.1214 - val_acc: 0.8814\n",
            "Epoch 10/20\n",
            "49/49 [==============================] - 1s 28ms/step - loss: 8.7751e-08 - acc: 1.0000 - val_loss: 1.2418 - val_acc: 0.8816\n",
            "Epoch 11/20\n",
            "49/49 [==============================] - 1s 28ms/step - loss: 2.6665e-08 - acc: 1.0000 - val_loss: 1.3058 - val_acc: 0.8817\n",
            "Epoch 12/20\n",
            "49/49 [==============================] - 1s 28ms/step - loss: 1.3715e-08 - acc: 1.0000 - val_loss: 1.3438 - val_acc: 0.8817\n",
            "Epoch 13/20\n",
            "49/49 [==============================] - 1s 29ms/step - loss: 9.2187e-09 - acc: 1.0000 - val_loss: 1.3689 - val_acc: 0.8815\n",
            "Epoch 14/20\n",
            "49/49 [==============================] - 1s 28ms/step - loss: 6.9969e-09 - acc: 1.0000 - val_loss: 1.3853 - val_acc: 0.8816\n",
            "Epoch 15/20\n",
            "49/49 [==============================] - 1s 28ms/step - loss: 5.6480e-09 - acc: 1.0000 - val_loss: 1.4008 - val_acc: 0.8815\n",
            "Epoch 16/20\n",
            "49/49 [==============================] - 1s 28ms/step - loss: 4.7455e-09 - acc: 1.0000 - val_loss: 1.4122 - val_acc: 0.8816\n",
            "Epoch 17/20\n",
            "49/49 [==============================] - 1s 29ms/step - loss: 4.1010e-09 - acc: 1.0000 - val_loss: 1.4239 - val_acc: 0.8814\n",
            "Epoch 18/20\n",
            "49/49 [==============================] - 1s 28ms/step - loss: 3.6235e-09 - acc: 1.0000 - val_loss: 1.4320 - val_acc: 0.8814\n",
            "Epoch 19/20\n",
            "49/49 [==============================] - 1s 28ms/step - loss: 3.2477e-09 - acc: 1.0000 - val_loss: 1.4414 - val_acc: 0.8814\n",
            "Epoch 20/20\n",
            "49/49 [==============================] - 1s 28ms/step - loss: 2.9529e-09 - acc: 1.0000 - val_loss: 1.4495 - val_acc: 0.8816\n"
          ],
          "name": "stdout"
        }
      ]
    },
    {
      "cell_type": "markdown",
      "metadata": {
        "id": "B8p0vLd5EPF7"
      },
      "source": [
        "이제 큰모델과 원래 모델의 손실 시각화"
      ]
    },
    {
      "cell_type": "code",
      "metadata": {
        "id": "Y1HrqluUDlIn",
        "outputId": "ecf291d5-be12-4742-8db1-ef09f2c7cb51",
        "colab": {
          "base_uri": "https://localhost:8080/",
          "height": 279
        }
      },
      "source": [
        "\n",
        "bigger_model_val_loss = bigger_model_hist.history['val_loss']\n",
        "\n",
        "plt.plot(epochs, original_val_loss, 'b+', label='Original model')\n",
        "plt.plot(epochs, bigger_model_val_loss, 'bo', label='Bigger model')\n",
        "plt.xlabel('Epochs')\n",
        "plt.ylabel('Validation loss')\n",
        "plt.legend()\n",
        "\n",
        "plt.show()"
      ],
      "execution_count": null,
      "outputs": [
        {
          "output_type": "display_data",
          "data": {
            "image/png": "[encoded data removed]",
            "text/plain": [
              "<Figure size 432x288 with 1 Axes>"
            ]
          },
          "metadata": {
            "tags": [],
            "needs_background": "light"
          }
        }
      ]
    },
    {
      "cell_type": "markdown",
      "metadata": {
        "id": "ZQiWwQhmEd9a"
      },
      "source": [
        "모델이 클 수록 과대적합이 더 잘 일어난다."
      ]
    },
    {
      "cell_type": "code",
      "metadata": {
        "id": "PBf4PSlUEUty",
        "outputId": "bbded14c-cfd2-4232-cd05-04983d14ae00",
        "colab": {
          "base_uri": "https://localhost:8080/",
          "height": 279
        }
      },
      "source": [
        "original_train_loss = original_hist.history['loss']\n",
        "bigger_model_train_loss = bigger_model_hist.history['loss']\n",
        "\n",
        "plt.plot(epochs, original_train_loss, 'b+', label='Original model')\n",
        "plt.plot(epochs, bigger_model_train_loss, 'bo', label='Bigger model')\n",
        "plt.xlabel('Epochs')\n",
        "plt.ylabel('Training loss')\n",
        "plt.legend()\n",
        "\n",
        "plt.show()"
      ],
      "execution_count": null,
      "outputs": [
        {
          "output_type": "display_data",
          "data": {
            "image/png": "[encoded data removed]",
            "text/plain": [
              "<Figure size 432x288 with 1 Axes>"
            ]
          },
          "metadata": {
            "tags": [],
            "needs_background": "light"
          }
        }
      ]
    },
    {
      "cell_type": "markdown",
      "metadata": {
        "id": "joavFyLIEnMP"
      },
      "source": [
        "훈련손실은 큰 모델이 더욱 0으로 빠르게 수렵한다.  \n",
        "=> 과대적합이 더 잘 발생하여 검증손실과 훔련손실의 차이가 커진다."
      ]
    },
    {
      "cell_type": "markdown",
      "metadata": {
        "id": "Cw3C3WxhFEOx"
      },
      "source": [
        "###4.4.2 가중치 규제 추가\n",
        ": 네트워크의 복잡도에 제한을 두어 가중치가 작은 값을 가지도록 강제하는 것입니다.\n",
        "\n",
        "* 규제의 종류\n",
        " - L1 규제 : 가중치의 절대값에 비례하는 비용이 추가됩니다(가중치의 L1 노름).\n",
        " - L2 규제 : 가중치의 제곱에 비례하는 비용이 추가됩니다(가중치의 L2 노름).\n",
        "\n",
        "\n",
        "\n"
      ]
    },
    {
      "cell_type": "markdown",
      "metadata": {
        "id": "bYRPc3SxIUoa"
      },
      "source": [
        "가중치 규제를 추가하고 "
      ]
    },
    {
      "cell_type": "code",
      "metadata": {
        "id": "zMu062IpEl2J"
      },
      "source": [
        "from keras import regularizers\n",
        "\n",
        "l2_model = models.Sequential()\n",
        "l2_model.add(layers.Dense(16, kernel_regularizer=regularizers.l2(0.001), # l2(0.001)는 가중치 행렬의 모든 원소를 제곱하고 0.001을 곱하여 네트워크의 전체 손실에 더해진다는 의미\n",
        "                          activation='relu', input_shape=(10000,)))\n",
        "l2_model.add(layers.Dense(16, kernel_regularizer=regularizers.l2(0.001),\n",
        "                          activation='relu'))\n",
        "l2_model.add(layers.Dense(1, activation='sigmoid'))"
      ],
      "execution_count": null,
      "outputs": []
    },
    {
      "cell_type": "code",
      "metadata": {
        "id": "qkmRVsQZIYNc"
      },
      "source": [
        "\n",
        "l2_model.compile(optimizer='rmsprop',\n",
        "                 loss='binary_crossentropy',\n",
        "                 metrics=['acc'])"
      ],
      "execution_count": null,
      "outputs": []
    },
    {
      "cell_type": "markdown",
      "metadata": {
        "id": "HEBirqxYItEq"
      },
      "source": [
        "모델 검증해보면"
      ]
    },
    {
      "cell_type": "code",
      "metadata": {
        "id": "IsHCwGF6IeTo",
        "outputId": "154085c9-4dea-4f3d-a422-98b7bdd0cdad",
        "colab": {
          "base_uri": "https://localhost:8080/"
        }
      },
      "source": [
        "l2_model_hist = l2_model.fit(x_train, y_train,\n",
        "                             epochs=20,\n",
        "                             batch_size=512,\n",
        "                             validation_data=(x_test, y_test))"
      ],
      "execution_count": null,
      "outputs": [
        {
          "output_type": "stream",
          "text": [
            "Epoch 1/20\n",
            "49/49 [==============================] - 1s 28ms/step - loss: 0.5172 - acc: 0.8037 - val_loss: 0.3927 - val_acc: 0.8776\n",
            "Epoch 2/20\n",
            "49/49 [==============================] - 1s 20ms/step - loss: 0.3223 - acc: 0.9028 - val_loss: 0.3910 - val_acc: 0.8571\n",
            "Epoch 3/20\n",
            "49/49 [==============================] - 1s 21ms/step - loss: 0.2739 - acc: 0.9191 - val_loss: 0.3303 - val_acc: 0.8883\n",
            "Epoch 4/20\n",
            "49/49 [==============================] - 1s 20ms/step - loss: 0.2513 - acc: 0.9276 - val_loss: 0.3357 - val_acc: 0.8856\n",
            "Epoch 5/20\n",
            "49/49 [==============================] - 1s 20ms/step - loss: 0.2376 - acc: 0.9336 - val_loss: 0.3413 - val_acc: 0.8834\n",
            "Epoch 6/20\n",
            "49/49 [==============================] - 1s 20ms/step - loss: 0.2293 - acc: 0.9365 - val_loss: 0.3522 - val_acc: 0.8797\n",
            "Epoch 7/20\n",
            "49/49 [==============================] - 1s 20ms/step - loss: 0.2229 - acc: 0.9376 - val_loss: 0.3618 - val_acc: 0.8793\n",
            "Epoch 8/20\n",
            "49/49 [==============================] - 1s 20ms/step - loss: 0.2155 - acc: 0.9433 - val_loss: 0.3697 - val_acc: 0.8753\n",
            "Epoch 9/20\n",
            "49/49 [==============================] - 1s 21ms/step - loss: 0.2127 - acc: 0.9418 - val_loss: 0.3907 - val_acc: 0.8700\n",
            "Epoch 10/20\n",
            "49/49 [==============================] - 1s 20ms/step - loss: 0.2073 - acc: 0.9462 - val_loss: 0.3766 - val_acc: 0.8750\n",
            "Epoch 11/20\n",
            "49/49 [==============================] - 1s 20ms/step - loss: 0.2037 - acc: 0.9457 - val_loss: 0.3892 - val_acc: 0.8713\n",
            "Epoch 12/20\n",
            "49/49 [==============================] - 1s 20ms/step - loss: 0.1994 - acc: 0.9482 - val_loss: 0.3829 - val_acc: 0.8751\n",
            "Epoch 13/20\n",
            "49/49 [==============================] - 1s 21ms/step - loss: 0.1922 - acc: 0.9495 - val_loss: 0.4291 - val_acc: 0.8602\n",
            "Epoch 14/20\n",
            "49/49 [==============================] - 1s 20ms/step - loss: 0.1947 - acc: 0.9485 - val_loss: 0.3960 - val_acc: 0.8726\n",
            "Epoch 15/20\n",
            "49/49 [==============================] - 1s 21ms/step - loss: 0.1922 - acc: 0.9502 - val_loss: 0.4133 - val_acc: 0.8681\n",
            "Epoch 16/20\n",
            "49/49 [==============================] - 1s 20ms/step - loss: 0.1864 - acc: 0.9524 - val_loss: 0.4225 - val_acc: 0.8656\n",
            "Epoch 17/20\n",
            "49/49 [==============================] - 1s 21ms/step - loss: 0.1837 - acc: 0.9538 - val_loss: 0.4459 - val_acc: 0.8657\n",
            "Epoch 18/20\n",
            "49/49 [==============================] - 1s 21ms/step - loss: 0.1811 - acc: 0.9555 - val_loss: 0.4190 - val_acc: 0.8684\n",
            "Epoch 19/20\n",
            "49/49 [==============================] - 1s 20ms/step - loss: 0.1773 - acc: 0.9566 - val_loss: 0.4752 - val_acc: 0.8515\n",
            "Epoch 20/20\n",
            "49/49 [==============================] - 1s 20ms/step - loss: 0.1742 - acc: 0.9585 - val_loss: 0.4349 - val_acc: 0.8657\n"
          ],
          "name": "stdout"
        }
      ]
    },
    {
      "cell_type": "markdown",
      "metadata": {
        "id": "e02fuRZLIxoo"
      },
      "source": [
        "원래 모델과 시각화"
      ]
    },
    {
      "cell_type": "code",
      "metadata": {
        "id": "TGE3kQ_vJNIJ",
        "outputId": "22b49417-1e6b-46ce-a6f9-cd94e2252507",
        "colab": {
          "base_uri": "https://localhost:8080/",
          "height": 279
        }
      },
      "source": [
        "l2_model_val_loss = l2_model_hist.history['val_loss']\n",
        "\n",
        "plt.plot(epochs, original_val_loss, 'b+', label='Original model')\n",
        "plt.plot(epochs, l2_model_val_loss, 'bo', label='L2-regularized model')\n",
        "plt.xlabel('Epochs')\n",
        "plt.ylabel('Validation loss')\n",
        "plt.legend()\n",
        "\n",
        "plt.show()"
      ],
      "execution_count": null,
      "outputs": [
        {
          "output_type": "display_data",
          "data": {
            "image/png": "[encoded data removed]",
            "text/plain": [
              "<Figure size 432x288 with 1 Axes>"
            ]
          },
          "metadata": {
            "tags": [],
            "needs_background": "light"
          }
        }
      ]
    },
    {
      "cell_type": "markdown",
      "metadata": {
        "id": "qiIPqnfGJj_I"
      },
      "source": [
        " L2 규제를 사용한 모델이 기본 모델보다 훨씬 더 과대적합에 잘 견디고 있다"
      ]
    },
    {
      "cell_type": "markdown",
      "metadata": {
        "id": "0L9WB9iKJ4l6"
      },
      "source": [
        "### 규제추가 종류에는 3가지\n",
        "\n",
        "* L1 규제\n",
        " - regularizers.l1(0.001)\n",
        "\n",
        "* L2 규제\n",
        " - regularizers.l2(0.001)\n",
        "\n",
        "* L1과 L2 규제 병행\n",
        " - regularizers.l1_l2(l1=0.001, l2=0.001)"
      ]
    },
    {
      "cell_type": "markdown",
      "metadata": {
        "id": "13McWixpLHxM"
      },
      "source": [
        "\n",
        "###4.4.3 드롭아웃 추가\n",
        ": 드롭아웃 = 무작위로 일정 비율만큼 출력값을 0 으로 만든다.\n",
        "\n",
        "// 밑의 과정들을 하는 이유를 모르겟다.\n",
        "* 훈련할 때 유닛의 출력 중 50%를 버린다\n",
        "layer_output *= np.random.randint(0, high=2, size=layer_output.shape)\n",
        "테스트할 때는 드롭아웃 비율로 출력을 낮추어 주어야 합니다. 여기에서는 0.5배만큼 스케일을 조정했습니다(앞에서 절반의 유닛을 드롭아웃했으므로):\n",
        "\n",
        "* 테스트 단계\n",
        "layer_output *= 0.5\n",
        "훈련 단계에 이 두 연산을 포함시켜 테스트 단계에는 출력을 그대로 두도록 구현할 수 있습니다.\n",
        "\n",
        "* 훈련 단계\n",
        "layer_output *= np.randint(0, high=2, size=layer_output.shape)\n",
        "* 여기에서 스케일을 낮추는 대신 높입니다![image.png](attachment:image.png)\n",
        "layer_output /= 0.5 // 여기 이해안감\n",
        "\n",
        "\n",
        "\n",
        "\n",
        "드롭아웃 추가 방법 model.add(layers.Dropout(0.5))"
      ]
    },
    {
      "cell_type": "markdown",
      "metadata": {
        "id": "0v-vj1DiN4uU"
      },
      "source": [
        "드롭아웃 추가해보면"
      ]
    },
    {
      "cell_type": "code",
      "metadata": {
        "id": "jBpwQHFaJNnF"
      },
      "source": [
        "dpt_model = models.Sequential()\n",
        "dpt_model.add(layers.Dense(16, activation='relu', input_shape=(10000,)))\n",
        "dpt_model.add(layers.Dropout(0.5))\n",
        "dpt_model.add(layers.Dense(16, activation='relu'))\n",
        "dpt_model.add(layers.Dropout(0.5))\n",
        "dpt_model.add(layers.Dense(1, activation='sigmoid'))\n",
        "\n",
        "dpt_model.compile(optimizer='rmsprop',\n",
        "                  loss='binary_crossentropy',\n",
        "                  metrics=['acc'])"
      ],
      "execution_count": null,
      "outputs": []
    },
    {
      "cell_type": "code",
      "metadata": {
        "id": "dVEGcC5DM7tw",
        "outputId": "810a3dc5-f348-4c9d-f276-0aa7853591f3",
        "colab": {
          "base_uri": "https://localhost:8080/"
        }
      },
      "source": [
        "dpt_model_hist = dpt_model.fit(x_train, y_train,\n",
        "                               epochs=20,\n",
        "                               batch_size=512,\n",
        "                               validation_data=(x_test, y_test))"
      ],
      "execution_count": null,
      "outputs": [
        {
          "output_type": "stream",
          "text": [
            "Epoch 1/20\n",
            "49/49 [==============================] - 1s 27ms/step - loss: 0.5859 - acc: 0.6858 - val_loss: 0.4471 - val_acc: 0.8623\n",
            "Epoch 2/20\n",
            "49/49 [==============================] - 1s 20ms/step - loss: 0.4428 - acc: 0.8129 - val_loss: 0.3396 - val_acc: 0.8834\n",
            "Epoch 3/20\n",
            "49/49 [==============================] - 1s 20ms/step - loss: 0.3615 - acc: 0.8631 - val_loss: 0.2943 - val_acc: 0.8875\n",
            "Epoch 4/20\n",
            "49/49 [==============================] - 1s 20ms/step - loss: 0.3084 - acc: 0.8877 - val_loss: 0.2778 - val_acc: 0.8898\n",
            "Epoch 5/20\n",
            "49/49 [==============================] - 1s 20ms/step - loss: 0.2644 - acc: 0.9090 - val_loss: 0.2838 - val_acc: 0.8875\n",
            "Epoch 6/20\n",
            "49/49 [==============================] - 1s 20ms/step - loss: 0.2331 - acc: 0.9202 - val_loss: 0.2914 - val_acc: 0.8882\n",
            "Epoch 7/20\n",
            "49/49 [==============================] - 1s 20ms/step - loss: 0.2120 - acc: 0.9273 - val_loss: 0.3060 - val_acc: 0.8859\n",
            "Epoch 8/20\n",
            "49/49 [==============================] - 1s 20ms/step - loss: 0.1908 - acc: 0.9364 - val_loss: 0.3191 - val_acc: 0.8842\n",
            "Epoch 9/20\n",
            "49/49 [==============================] - 1s 20ms/step - loss: 0.1765 - acc: 0.9396 - val_loss: 0.3421 - val_acc: 0.8847\n",
            "Epoch 10/20\n",
            "49/49 [==============================] - 1s 20ms/step - loss: 0.1612 - acc: 0.9448 - val_loss: 0.3608 - val_acc: 0.8831\n",
            "Epoch 11/20\n",
            "49/49 [==============================] - 1s 20ms/step - loss: 0.1540 - acc: 0.9490 - val_loss: 0.3901 - val_acc: 0.8805\n",
            "Epoch 12/20\n",
            "49/49 [==============================] - 1s 20ms/step - loss: 0.1448 - acc: 0.9508 - val_loss: 0.4484 - val_acc: 0.8716\n",
            "Epoch 13/20\n",
            "49/49 [==============================] - 1s 20ms/step - loss: 0.1342 - acc: 0.9527 - val_loss: 0.4294 - val_acc: 0.8778\n",
            "Epoch 14/20\n",
            "49/49 [==============================] - 1s 20ms/step - loss: 0.1301 - acc: 0.9549 - val_loss: 0.4546 - val_acc: 0.8777\n",
            "Epoch 15/20\n",
            "49/49 [==============================] - 1s 20ms/step - loss: 0.1221 - acc: 0.9580 - val_loss: 0.4647 - val_acc: 0.8780\n",
            "Epoch 16/20\n",
            "49/49 [==============================] - 1s 20ms/step - loss: 0.1174 - acc: 0.9592 - val_loss: 0.5176 - val_acc: 0.8760\n",
            "Epoch 17/20\n",
            "49/49 [==============================] - 1s 20ms/step - loss: 0.1140 - acc: 0.9588 - val_loss: 0.5697 - val_acc: 0.8685\n",
            "Epoch 18/20\n",
            "49/49 [==============================] - 1s 21ms/step - loss: 0.1137 - acc: 0.9578 - val_loss: 0.5602 - val_acc: 0.8718\n",
            "Epoch 19/20\n",
            "49/49 [==============================] - 1s 20ms/step - loss: 0.1119 - acc: 0.9602 - val_loss: 0.5520 - val_acc: 0.8724\n",
            "Epoch 20/20\n",
            "49/49 [==============================] - 1s 20ms/step - loss: 0.1056 - acc: 0.9602 - val_loss: 0.5789 - val_acc: 0.8748\n"
          ],
          "name": "stdout"
        }
      ]
    },
    {
      "cell_type": "markdown",
      "metadata": {
        "id": "7XbKNF4cNHjA"
      },
      "source": [
        "시각화 해보면"
      ]
    },
    {
      "cell_type": "code",
      "metadata": {
        "id": "N6nxDUzpNJKR",
        "outputId": "6cec8994-b5db-4b12-ef78-323d47282465",
        "colab": {
          "base_uri": "https://localhost:8080/",
          "height": 279
        }
      },
      "source": [
        "\n",
        "dpt_model_val_loss = dpt_model_hist.history['val_loss']\n",
        "\n",
        "plt.plot(epochs, original_val_loss, 'b+', label='Original model')\n",
        "plt.plot(epochs, dpt_model_val_loss, 'bo', label='Dropout-regularized model')\n",
        "plt.xlabel('Epochs')\n",
        "plt.ylabel('Validation loss')\n",
        "plt.legend()\n",
        "\n",
        "plt.show()"
      ],
      "execution_count": null,
      "outputs": [
        {
          "output_type": "display_data",
          "data": {
            "image/png": "[encoded data removed]",
            "text/plain": [
              "<Figure size 432x288 with 1 Axes>"
            ]
          },
          "metadata": {
            "tags": [],
            "needs_background": "light"
          }
        }
      ]
    },
    {
      "cell_type": "markdown",
      "metadata": {
        "id": "EswpJeUQN-o1"
      },
      "source": [
        "드롭아웃한 모델이 덜 과대적합된 것을 볼 수 있다."
      ]
    },
    {
      "cell_type": "markdown",
      "metadata": {
        "id": "7pC8I8-xOMJv"
      },
      "source": [
        "# 정리\n",
        "신경망에서 과대적합을 방지하기 위해 가장 널리 사용하는 방법\n",
        "\n",
        "* 훈련 데이터를 더 모은다.\n",
        "* 네트워크의 용량을 감소.\n",
        "* 가중치 규제를 추가.\n",
        "* 드롭아웃을 추가"
      ]
    }
  ]
}